{
 "cells": [
  {
   "cell_type": "code",
   "execution_count": 166,
   "id": "9e4e2369-cb05-41a7-8131-55eb6d613de3",
   "metadata": {},
   "outputs": [],
   "source": [
    "import pandas as pd\n",
    "import numpy as np\n",
    "import matplotlib.pyplot as plt"
   ]
  },
  {
   "cell_type": "markdown",
   "id": "a45efc9d-6d8d-436e-9c6b-716edfe30e75",
   "metadata": {},
   "source": [
    "importing dataset"
   ]
  },
  {
   "cell_type": "code",
   "execution_count": 167,
   "id": "fbc5bc24-3b50-4fc6-9232-a365b69769dd",
   "metadata": {},
   "outputs": [],
   "source": [
    "df = pd.read_csv(\"churn_prediction_data.csv\")"
   ]
  },
  {
   "cell_type": "code",
   "execution_count": 168,
   "id": "7d590bce-364c-4ed4-b8b8-780be0be5342",
   "metadata": {},
   "outputs": [
    {
     "data": {
      "text/html": [
       "<div>\n",
       "<style scoped>\n",
       "    .dataframe tbody tr th:only-of-type {\n",
       "        vertical-align: middle;\n",
       "    }\n",
       "\n",
       "    .dataframe tbody tr th {\n",
       "        vertical-align: top;\n",
       "    }\n",
       "\n",
       "    .dataframe thead th {\n",
       "        text-align: right;\n",
       "    }\n",
       "</style>\n",
       "<table border=\"1\" class=\"dataframe\">\n",
       "  <thead>\n",
       "    <tr style=\"text-align: right;\">\n",
       "      <th></th>\n",
       "      <th>CustomerID</th>\n",
       "      <th>Gender</th>\n",
       "      <th>Age</th>\n",
       "      <th>Tenure</th>\n",
       "      <th>Balance</th>\n",
       "      <th>NumOfProducts</th>\n",
       "      <th>HasCrCard</th>\n",
       "      <th>IsActiveMember</th>\n",
       "      <th>EstimatedSalary</th>\n",
       "      <th>Exited</th>\n",
       "    </tr>\n",
       "  </thead>\n",
       "  <tbody>\n",
       "    <tr>\n",
       "      <th>0</th>\n",
       "      <td>1001</td>\n",
       "      <td>Male</td>\n",
       "      <td>34</td>\n",
       "      <td>5</td>\n",
       "      <td>52000.0</td>\n",
       "      <td>2</td>\n",
       "      <td>1</td>\n",
       "      <td>1</td>\n",
       "      <td>72000.0</td>\n",
       "      <td>0</td>\n",
       "    </tr>\n",
       "    <tr>\n",
       "      <th>1</th>\n",
       "      <td>1002</td>\n",
       "      <td>Female</td>\n",
       "      <td>35</td>\n",
       "      <td>2</td>\n",
       "      <td>58000.0</td>\n",
       "      <td>1</td>\n",
       "      <td>1</td>\n",
       "      <td>1</td>\n",
       "      <td>68000.0</td>\n",
       "      <td>1</td>\n",
       "    </tr>\n",
       "    <tr>\n",
       "      <th>2</th>\n",
       "      <td>1003</td>\n",
       "      <td>Female</td>\n",
       "      <td>23</td>\n",
       "      <td>2</td>\n",
       "      <td>42000.0</td>\n",
       "      <td>1</td>\n",
       "      <td>0</td>\n",
       "      <td>0</td>\n",
       "      <td>48000.0</td>\n",
       "      <td>0</td>\n",
       "    </tr>\n",
       "    <tr>\n",
       "      <th>3</th>\n",
       "      <td>1004</td>\n",
       "      <td>Male</td>\n",
       "      <td>42</td>\n",
       "      <td>1</td>\n",
       "      <td>53000.0</td>\n",
       "      <td>1</td>\n",
       "      <td>0</td>\n",
       "      <td>1</td>\n",
       "      <td>98000.0</td>\n",
       "      <td>1</td>\n",
       "    </tr>\n",
       "    <tr>\n",
       "      <th>4</th>\n",
       "      <td>1005</td>\n",
       "      <td>Female</td>\n",
       "      <td>37</td>\n",
       "      <td>1</td>\n",
       "      <td>85000.0</td>\n",
       "      <td>1</td>\n",
       "      <td>0</td>\n",
       "      <td>1</td>\n",
       "      <td>115000.0</td>\n",
       "      <td>1</td>\n",
       "    </tr>\n",
       "  </tbody>\n",
       "</table>\n",
       "</div>"
      ],
      "text/plain": [
       "   CustomerID  Gender  Age  Tenure  Balance  NumOfProducts  HasCrCard  \\\n",
       "0        1001    Male   34       5  52000.0              2          1   \n",
       "1        1002  Female   35       2  58000.0              1          1   \n",
       "2        1003  Female   23       2  42000.0              1          0   \n",
       "3        1004    Male   42       1  53000.0              1          0   \n",
       "4        1005  Female   37       1  85000.0              1          0   \n",
       "\n",
       "   IsActiveMember  EstimatedSalary  Exited  \n",
       "0               1          72000.0       0  \n",
       "1               1          68000.0       1  \n",
       "2               0          48000.0       0  \n",
       "3               1          98000.0       1  \n",
       "4               1         115000.0       1  "
      ]
     },
     "execution_count": 168,
     "metadata": {},
     "output_type": "execute_result"
    }
   ],
   "source": [
    "df.head()"
   ]
  },
  {
   "cell_type": "code",
   "execution_count": 169,
   "id": "57878ad5-8024-4c4b-83dd-288f433422b6",
   "metadata": {},
   "outputs": [
    {
     "data": {
      "text/html": [
       "<div>\n",
       "<style scoped>\n",
       "    .dataframe tbody tr th:only-of-type {\n",
       "        vertical-align: middle;\n",
       "    }\n",
       "\n",
       "    .dataframe tbody tr th {\n",
       "        vertical-align: top;\n",
       "    }\n",
       "\n",
       "    .dataframe thead th {\n",
       "        text-align: right;\n",
       "    }\n",
       "</style>\n",
       "<table border=\"1\" class=\"dataframe\">\n",
       "  <thead>\n",
       "    <tr style=\"text-align: right;\">\n",
       "      <th></th>\n",
       "      <th>CustomerID</th>\n",
       "      <th>Gender</th>\n",
       "      <th>Age</th>\n",
       "      <th>Tenure</th>\n",
       "      <th>Balance</th>\n",
       "      <th>NumOfProducts</th>\n",
       "      <th>HasCrCard</th>\n",
       "      <th>IsActiveMember</th>\n",
       "      <th>EstimatedSalary</th>\n",
       "      <th>Exited</th>\n",
       "    </tr>\n",
       "  </thead>\n",
       "  <tbody>\n",
       "    <tr>\n",
       "      <th>10000</th>\n",
       "      <td>11001</td>\n",
       "      <td>Male</td>\n",
       "      <td>33</td>\n",
       "      <td>4</td>\n",
       "      <td>8750.89</td>\n",
       "      <td>2</td>\n",
       "      <td>1</td>\n",
       "      <td>0</td>\n",
       "      <td>48920.22</td>\n",
       "      <td>0</td>\n",
       "    </tr>\n",
       "    <tr>\n",
       "      <th>10001</th>\n",
       "      <td>11002</td>\n",
       "      <td>Female</td>\n",
       "      <td>39</td>\n",
       "      <td>6</td>\n",
       "      <td>89450.33</td>\n",
       "      <td>1</td>\n",
       "      <td>0</td>\n",
       "      <td>1</td>\n",
       "      <td>102340.78</td>\n",
       "      <td>0</td>\n",
       "    </tr>\n",
       "    <tr>\n",
       "      <th>10002</th>\n",
       "      <td>11003</td>\n",
       "      <td>Male</td>\n",
       "      <td>31</td>\n",
       "      <td>7</td>\n",
       "      <td>142670.44</td>\n",
       "      <td>2</td>\n",
       "      <td>1</td>\n",
       "      <td>1</td>\n",
       "      <td>44580.89</td>\n",
       "      <td>0</td>\n",
       "    </tr>\n",
       "    <tr>\n",
       "      <th>10003</th>\n",
       "      <td>11004</td>\n",
       "      <td>Female</td>\n",
       "      <td>27</td>\n",
       "      <td>100000</td>\n",
       "      <td>22.00</td>\n",
       "      <td>1</td>\n",
       "      <td>1</td>\n",
       "      <td>0</td>\n",
       "      <td>150000.00</td>\n",
       "      <td>1</td>\n",
       "    </tr>\n",
       "    <tr>\n",
       "      <th>10004</th>\n",
       "      <td>11005</td>\n",
       "      <td>Male</td>\n",
       "      <td>29</td>\n",
       "      <td>50000</td>\n",
       "      <td>2.00</td>\n",
       "      <td>0</td>\n",
       "      <td>0</td>\n",
       "      <td>1</td>\n",
       "      <td>80000.00</td>\n",
       "      <td>1</td>\n",
       "    </tr>\n",
       "  </tbody>\n",
       "</table>\n",
       "</div>"
      ],
      "text/plain": [
       "       CustomerID  Gender  Age  Tenure    Balance  NumOfProducts  HasCrCard  \\\n",
       "10000       11001    Male   33       4    8750.89              2          1   \n",
       "10001       11002  Female   39       6   89450.33              1          0   \n",
       "10002       11003    Male   31       7  142670.44              2          1   \n",
       "10003       11004  Female   27  100000      22.00              1          1   \n",
       "10004       11005    Male   29   50000       2.00              0          0   \n",
       "\n",
       "       IsActiveMember  EstimatedSalary  Exited  \n",
       "10000               0         48920.22       0  \n",
       "10001               1        102340.78       0  \n",
       "10002               1         44580.89       0  \n",
       "10003               0        150000.00       1  \n",
       "10004               1         80000.00       1  "
      ]
     },
     "execution_count": 169,
     "metadata": {},
     "output_type": "execute_result"
    }
   ],
   "source": [
    "df.tail()\n"
   ]
  },
  {
   "cell_type": "markdown",
   "id": "8d56ced3-fd54-4de6-addd-8e03e454a640",
   "metadata": {},
   "source": [
    "checking for nan values in dataset"
   ]
  },
  {
   "cell_type": "code",
   "execution_count": 170,
   "id": "6b81951e-1ddd-4add-bc4a-066641a0e989",
   "metadata": {},
   "outputs": [
    {
     "name": "stdout",
     "output_type": "stream",
     "text": [
      "<class 'pandas.core.frame.DataFrame'>\n",
      "RangeIndex: 10005 entries, 0 to 10004\n",
      "Data columns (total 10 columns):\n",
      " #   Column           Non-Null Count  Dtype  \n",
      "---  ------           --------------  -----  \n",
      " 0   CustomerID       10005 non-null  int64  \n",
      " 1   Gender           10005 non-null  object \n",
      " 2   Age              10005 non-null  int64  \n",
      " 3   Tenure           10005 non-null  int64  \n",
      " 4   Balance          10005 non-null  float64\n",
      " 5   NumOfProducts    10005 non-null  int64  \n",
      " 6   HasCrCard        10005 non-null  int64  \n",
      " 7   IsActiveMember   10005 non-null  int64  \n",
      " 8   EstimatedSalary  10005 non-null  float64\n",
      " 9   Exited           10005 non-null  int64  \n",
      "dtypes: float64(2), int64(7), object(1)\n",
      "memory usage: 781.8+ KB\n"
     ]
    }
   ],
   "source": [
    "df.info()"
   ]
  },
  {
   "cell_type": "code",
   "execution_count": 171,
   "id": "e097f85d-fe01-4cf5-ae7e-3d28ec5165cd",
   "metadata": {},
   "outputs": [
    {
     "data": {
      "text/plain": [
       "0"
      ]
     },
     "execution_count": 171,
     "metadata": {},
     "output_type": "execute_result"
    }
   ],
   "source": [
    "df.isna().sum().sum()"
   ]
  },
  {
   "cell_type": "markdown",
   "id": "285529ff-b72b-4ca8-8565-0f287fbdced9",
   "metadata": {},
   "source": [
    "therefore there are no nan values. "
   ]
  },
  {
   "cell_type": "markdown",
   "id": "7713b0fa-9c42-4aae-be2d-dd1fa1413d49",
   "metadata": {},
   "source": [
    "checking for duplicates"
   ]
  },
  {
   "cell_type": "code",
   "execution_count": 172,
   "id": "4ba42546-4f3b-440d-a051-6214183d14f5",
   "metadata": {},
   "outputs": [
    {
     "data": {
      "text/plain": [
       "0"
      ]
     },
     "execution_count": 172,
     "metadata": {},
     "output_type": "execute_result"
    }
   ],
   "source": [
    "df.duplicated().sum()"
   ]
  },
  {
   "cell_type": "markdown",
   "id": "1eddb431-1b1a-4092-9398-7af7a2fadee7",
   "metadata": {},
   "source": [
    "therefor no duplicate values"
   ]
  },
  {
   "cell_type": "code",
   "execution_count": 173,
   "id": "5c714ded-4e3c-4295-9a44-a8a49e2054cd",
   "metadata": {},
   "outputs": [
    {
     "data": {
      "text/html": [
       "<div>\n",
       "<style scoped>\n",
       "    .dataframe tbody tr th:only-of-type {\n",
       "        vertical-align: middle;\n",
       "    }\n",
       "\n",
       "    .dataframe tbody tr th {\n",
       "        vertical-align: top;\n",
       "    }\n",
       "\n",
       "    .dataframe thead th {\n",
       "        text-align: right;\n",
       "    }\n",
       "</style>\n",
       "<table border=\"1\" class=\"dataframe\">\n",
       "  <thead>\n",
       "    <tr style=\"text-align: right;\">\n",
       "      <th></th>\n",
       "      <th>CustomerID</th>\n",
       "      <th>Age</th>\n",
       "      <th>Tenure</th>\n",
       "      <th>Balance</th>\n",
       "      <th>NumOfProducts</th>\n",
       "      <th>HasCrCard</th>\n",
       "      <th>IsActiveMember</th>\n",
       "      <th>EstimatedSalary</th>\n",
       "      <th>Exited</th>\n",
       "    </tr>\n",
       "  </thead>\n",
       "  <tbody>\n",
       "    <tr>\n",
       "      <th>count</th>\n",
       "      <td>10005.000000</td>\n",
       "      <td>10005.000000</td>\n",
       "      <td>10005.000000</td>\n",
       "      <td>1.000500e+04</td>\n",
       "      <td>10005.000000</td>\n",
       "      <td>10005.00000</td>\n",
       "      <td>10005.000000</td>\n",
       "      <td>10005.000000</td>\n",
       "      <td>10005.000000</td>\n",
       "    </tr>\n",
       "    <tr>\n",
       "      <th>mean</th>\n",
       "      <td>6003.000000</td>\n",
       "      <td>39.448176</td>\n",
       "      <td>20.253473</td>\n",
       "      <td>1.014286e+05</td>\n",
       "      <td>1.806397</td>\n",
       "      <td>0.53953</td>\n",
       "      <td>0.514143</td>\n",
       "      <td>122503.861922</td>\n",
       "      <td>0.431184</td>\n",
       "    </tr>\n",
       "    <tr>\n",
       "      <th>std</th>\n",
       "      <td>2888.339056</td>\n",
       "      <td>10.164257</td>\n",
       "      <td>1117.642282</td>\n",
       "      <td>6.531556e+04</td>\n",
       "      <td>0.767960</td>\n",
       "      <td>0.49846</td>\n",
       "      <td>0.499825</td>\n",
       "      <td>53544.325040</td>\n",
       "      <td>0.495267</td>\n",
       "    </tr>\n",
       "    <tr>\n",
       "      <th>min</th>\n",
       "      <td>1001.000000</td>\n",
       "      <td>15.000000</td>\n",
       "      <td>0.000000</td>\n",
       "      <td>0.000000e+00</td>\n",
       "      <td>0.000000</td>\n",
       "      <td>0.00000</td>\n",
       "      <td>0.000000</td>\n",
       "      <td>0.000000</td>\n",
       "      <td>0.000000</td>\n",
       "    </tr>\n",
       "    <tr>\n",
       "      <th>25%</th>\n",
       "      <td>3502.000000</td>\n",
       "      <td>32.000000</td>\n",
       "      <td>3.000000</td>\n",
       "      <td>4.568070e+04</td>\n",
       "      <td>1.000000</td>\n",
       "      <td>0.00000</td>\n",
       "      <td>0.000000</td>\n",
       "      <td>85000.300000</td>\n",
       "      <td>0.000000</td>\n",
       "    </tr>\n",
       "    <tr>\n",
       "      <th>50%</th>\n",
       "      <td>6003.000000</td>\n",
       "      <td>38.000000</td>\n",
       "      <td>5.000000</td>\n",
       "      <td>1.150004e+05</td>\n",
       "      <td>2.000000</td>\n",
       "      <td>1.00000</td>\n",
       "      <td>1.000000</td>\n",
       "      <td>133456.780000</td>\n",
       "      <td>0.000000</td>\n",
       "    </tr>\n",
       "    <tr>\n",
       "      <th>75%</th>\n",
       "      <td>8504.000000</td>\n",
       "      <td>46.000000</td>\n",
       "      <td>7.000000</td>\n",
       "      <td>1.480006e+05</td>\n",
       "      <td>2.000000</td>\n",
       "      <td>1.00000</td>\n",
       "      <td>1.000000</td>\n",
       "      <td>167890.120000</td>\n",
       "      <td>1.000000</td>\n",
       "    </tr>\n",
       "    <tr>\n",
       "      <th>max</th>\n",
       "      <td>11005.000000</td>\n",
       "      <td>90.000000</td>\n",
       "      <td>100000.000000</td>\n",
       "      <td>1.950000e+06</td>\n",
       "      <td>4.000000</td>\n",
       "      <td>1.00000</td>\n",
       "      <td>1.000000</td>\n",
       "      <td>300000.000000</td>\n",
       "      <td>1.000000</td>\n",
       "    </tr>\n",
       "  </tbody>\n",
       "</table>\n",
       "</div>"
      ],
      "text/plain": [
       "         CustomerID           Age         Tenure       Balance  NumOfProducts  \\\n",
       "count  10005.000000  10005.000000   10005.000000  1.000500e+04   10005.000000   \n",
       "mean    6003.000000     39.448176      20.253473  1.014286e+05       1.806397   \n",
       "std     2888.339056     10.164257    1117.642282  6.531556e+04       0.767960   \n",
       "min     1001.000000     15.000000       0.000000  0.000000e+00       0.000000   \n",
       "25%     3502.000000     32.000000       3.000000  4.568070e+04       1.000000   \n",
       "50%     6003.000000     38.000000       5.000000  1.150004e+05       2.000000   \n",
       "75%     8504.000000     46.000000       7.000000  1.480006e+05       2.000000   \n",
       "max    11005.000000     90.000000  100000.000000  1.950000e+06       4.000000   \n",
       "\n",
       "         HasCrCard  IsActiveMember  EstimatedSalary        Exited  \n",
       "count  10005.00000    10005.000000     10005.000000  10005.000000  \n",
       "mean       0.53953        0.514143    122503.861922      0.431184  \n",
       "std        0.49846        0.499825     53544.325040      0.495267  \n",
       "min        0.00000        0.000000         0.000000      0.000000  \n",
       "25%        0.00000        0.000000     85000.300000      0.000000  \n",
       "50%        1.00000        1.000000    133456.780000      0.000000  \n",
       "75%        1.00000        1.000000    167890.120000      1.000000  \n",
       "max        1.00000        1.000000    300000.000000      1.000000  "
      ]
     },
     "execution_count": 173,
     "metadata": {},
     "output_type": "execute_result"
    }
   ],
   "source": [
    "df.describe()"
   ]
  },
  {
   "cell_type": "markdown",
   "id": "89504c8e-53a4-4cfa-91e0-01d9538c98fa",
   "metadata": {},
   "source": [
    "obtaining corerelation"
   ]
  },
  {
   "cell_type": "code",
   "execution_count": 174,
   "id": "53544475-89ba-4370-b2b2-7d96b0ed99ec",
   "metadata": {},
   "outputs": [
    {
     "data": {
      "text/html": [
       "<div>\n",
       "<style scoped>\n",
       "    .dataframe tbody tr th:only-of-type {\n",
       "        vertical-align: middle;\n",
       "    }\n",
       "\n",
       "    .dataframe tbody tr th {\n",
       "        vertical-align: top;\n",
       "    }\n",
       "\n",
       "    .dataframe thead th {\n",
       "        text-align: right;\n",
       "    }\n",
       "</style>\n",
       "<table border=\"1\" class=\"dataframe\">\n",
       "  <thead>\n",
       "    <tr style=\"text-align: right;\">\n",
       "      <th></th>\n",
       "      <th>CustomerID</th>\n",
       "      <th>Age</th>\n",
       "      <th>Tenure</th>\n",
       "      <th>Balance</th>\n",
       "      <th>NumOfProducts</th>\n",
       "      <th>HasCrCard</th>\n",
       "      <th>IsActiveMember</th>\n",
       "      <th>EstimatedSalary</th>\n",
       "      <th>Exited</th>\n",
       "    </tr>\n",
       "  </thead>\n",
       "  <tbody>\n",
       "    <tr>\n",
       "      <th>CustomerID</th>\n",
       "      <td>1.000000</td>\n",
       "      <td>-0.054048</td>\n",
       "      <td>0.023165</td>\n",
       "      <td>0.026587</td>\n",
       "      <td>-0.050871</td>\n",
       "      <td>-0.121100</td>\n",
       "      <td>0.003787</td>\n",
       "      <td>0.021118</td>\n",
       "      <td>0.095079</td>\n",
       "    </tr>\n",
       "    <tr>\n",
       "      <th>Age</th>\n",
       "      <td>-0.054048</td>\n",
       "      <td>1.000000</td>\n",
       "      <td>-0.015470</td>\n",
       "      <td>0.037424</td>\n",
       "      <td>0.003600</td>\n",
       "      <td>0.040441</td>\n",
       "      <td>-0.005754</td>\n",
       "      <td>-0.012407</td>\n",
       "      <td>-0.004715</td>\n",
       "    </tr>\n",
       "    <tr>\n",
       "      <th>Tenure</th>\n",
       "      <td>0.023165</td>\n",
       "      <td>-0.015470</td>\n",
       "      <td>1.000000</td>\n",
       "      <td>-0.020904</td>\n",
       "      <td>-0.019878</td>\n",
       "      <td>0.003460</td>\n",
       "      <td>-0.004866</td>\n",
       "      <td>0.000986</td>\n",
       "      <td>0.015459</td>\n",
       "    </tr>\n",
       "    <tr>\n",
       "      <th>Balance</th>\n",
       "      <td>0.026587</td>\n",
       "      <td>0.037424</td>\n",
       "      <td>-0.020904</td>\n",
       "      <td>1.000000</td>\n",
       "      <td>-0.009444</td>\n",
       "      <td>-0.030652</td>\n",
       "      <td>0.038321</td>\n",
       "      <td>0.040147</td>\n",
       "      <td>-0.022050</td>\n",
       "    </tr>\n",
       "    <tr>\n",
       "      <th>NumOfProducts</th>\n",
       "      <td>-0.050871</td>\n",
       "      <td>0.003600</td>\n",
       "      <td>-0.019878</td>\n",
       "      <td>-0.009444</td>\n",
       "      <td>1.000000</td>\n",
       "      <td>-0.034973</td>\n",
       "      <td>0.001535</td>\n",
       "      <td>0.034910</td>\n",
       "      <td>0.060238</td>\n",
       "    </tr>\n",
       "    <tr>\n",
       "      <th>HasCrCard</th>\n",
       "      <td>-0.121100</td>\n",
       "      <td>0.040441</td>\n",
       "      <td>0.003460</td>\n",
       "      <td>-0.030652</td>\n",
       "      <td>-0.034973</td>\n",
       "      <td>1.000000</td>\n",
       "      <td>-0.035445</td>\n",
       "      <td>0.008197</td>\n",
       "      <td>-0.124928</td>\n",
       "    </tr>\n",
       "    <tr>\n",
       "      <th>IsActiveMember</th>\n",
       "      <td>0.003787</td>\n",
       "      <td>-0.005754</td>\n",
       "      <td>-0.004866</td>\n",
       "      <td>0.038321</td>\n",
       "      <td>0.001535</td>\n",
       "      <td>-0.035445</td>\n",
       "      <td>1.000000</td>\n",
       "      <td>0.016702</td>\n",
       "      <td>-0.141740</td>\n",
       "    </tr>\n",
       "    <tr>\n",
       "      <th>EstimatedSalary</th>\n",
       "      <td>0.021118</td>\n",
       "      <td>-0.012407</td>\n",
       "      <td>0.000986</td>\n",
       "      <td>0.040147</td>\n",
       "      <td>0.034910</td>\n",
       "      <td>0.008197</td>\n",
       "      <td>0.016702</td>\n",
       "      <td>1.000000</td>\n",
       "      <td>-0.013172</td>\n",
       "    </tr>\n",
       "    <tr>\n",
       "      <th>Exited</th>\n",
       "      <td>0.095079</td>\n",
       "      <td>-0.004715</td>\n",
       "      <td>0.015459</td>\n",
       "      <td>-0.022050</td>\n",
       "      <td>0.060238</td>\n",
       "      <td>-0.124928</td>\n",
       "      <td>-0.141740</td>\n",
       "      <td>-0.013172</td>\n",
       "      <td>1.000000</td>\n",
       "    </tr>\n",
       "  </tbody>\n",
       "</table>\n",
       "</div>"
      ],
      "text/plain": [
       "                 CustomerID       Age    Tenure   Balance  NumOfProducts  \\\n",
       "CustomerID         1.000000 -0.054048  0.023165  0.026587      -0.050871   \n",
       "Age               -0.054048  1.000000 -0.015470  0.037424       0.003600   \n",
       "Tenure             0.023165 -0.015470  1.000000 -0.020904      -0.019878   \n",
       "Balance            0.026587  0.037424 -0.020904  1.000000      -0.009444   \n",
       "NumOfProducts     -0.050871  0.003600 -0.019878 -0.009444       1.000000   \n",
       "HasCrCard         -0.121100  0.040441  0.003460 -0.030652      -0.034973   \n",
       "IsActiveMember     0.003787 -0.005754 -0.004866  0.038321       0.001535   \n",
       "EstimatedSalary    0.021118 -0.012407  0.000986  0.040147       0.034910   \n",
       "Exited             0.095079 -0.004715  0.015459 -0.022050       0.060238   \n",
       "\n",
       "                 HasCrCard  IsActiveMember  EstimatedSalary    Exited  \n",
       "CustomerID       -0.121100        0.003787         0.021118  0.095079  \n",
       "Age               0.040441       -0.005754        -0.012407 -0.004715  \n",
       "Tenure            0.003460       -0.004866         0.000986  0.015459  \n",
       "Balance          -0.030652        0.038321         0.040147 -0.022050  \n",
       "NumOfProducts    -0.034973        0.001535         0.034910  0.060238  \n",
       "HasCrCard         1.000000       -0.035445         0.008197 -0.124928  \n",
       "IsActiveMember   -0.035445        1.000000         0.016702 -0.141740  \n",
       "EstimatedSalary   0.008197        0.016702         1.000000 -0.013172  \n",
       "Exited           -0.124928       -0.141740        -0.013172  1.000000  "
      ]
     },
     "execution_count": 174,
     "metadata": {},
     "output_type": "execute_result"
    }
   ],
   "source": [
    "numeric_colums_data=df.select_dtypes(include=[\"number\"])\n",
    "numeric_colums_data.corr()"
   ]
  },
  {
   "cell_type": "code",
   "execution_count": 175,
   "id": "02600b03-146c-48e1-998e-002fce34d2d5",
   "metadata": {},
   "outputs": [
    {
     "data": {
      "text/html": [
       "<div>\n",
       "<style scoped>\n",
       "    .dataframe tbody tr th:only-of-type {\n",
       "        vertical-align: middle;\n",
       "    }\n",
       "\n",
       "    .dataframe tbody tr th {\n",
       "        vertical-align: top;\n",
       "    }\n",
       "\n",
       "    .dataframe thead th {\n",
       "        text-align: right;\n",
       "    }\n",
       "</style>\n",
       "<table border=\"1\" class=\"dataframe\">\n",
       "  <thead>\n",
       "    <tr style=\"text-align: right;\">\n",
       "      <th></th>\n",
       "      <th>CustomerID</th>\n",
       "      <th>Gender</th>\n",
       "      <th>Age</th>\n",
       "      <th>Tenure</th>\n",
       "      <th>Balance</th>\n",
       "      <th>NumOfProducts</th>\n",
       "      <th>HasCrCard</th>\n",
       "      <th>IsActiveMember</th>\n",
       "      <th>EstimatedSalary</th>\n",
       "      <th>Exited</th>\n",
       "    </tr>\n",
       "  </thead>\n",
       "  <tbody>\n",
       "    <tr>\n",
       "      <th>0</th>\n",
       "      <td>1001</td>\n",
       "      <td>Male</td>\n",
       "      <td>34</td>\n",
       "      <td>5</td>\n",
       "      <td>52000.00</td>\n",
       "      <td>2</td>\n",
       "      <td>1</td>\n",
       "      <td>1</td>\n",
       "      <td>72000.00</td>\n",
       "      <td>0</td>\n",
       "    </tr>\n",
       "    <tr>\n",
       "      <th>1</th>\n",
       "      <td>1002</td>\n",
       "      <td>Female</td>\n",
       "      <td>35</td>\n",
       "      <td>2</td>\n",
       "      <td>58000.00</td>\n",
       "      <td>1</td>\n",
       "      <td>1</td>\n",
       "      <td>1</td>\n",
       "      <td>68000.00</td>\n",
       "      <td>1</td>\n",
       "    </tr>\n",
       "    <tr>\n",
       "      <th>2</th>\n",
       "      <td>1003</td>\n",
       "      <td>Female</td>\n",
       "      <td>23</td>\n",
       "      <td>2</td>\n",
       "      <td>42000.00</td>\n",
       "      <td>1</td>\n",
       "      <td>0</td>\n",
       "      <td>0</td>\n",
       "      <td>48000.00</td>\n",
       "      <td>0</td>\n",
       "    </tr>\n",
       "    <tr>\n",
       "      <th>3</th>\n",
       "      <td>1004</td>\n",
       "      <td>Male</td>\n",
       "      <td>42</td>\n",
       "      <td>1</td>\n",
       "      <td>53000.00</td>\n",
       "      <td>1</td>\n",
       "      <td>0</td>\n",
       "      <td>1</td>\n",
       "      <td>98000.00</td>\n",
       "      <td>1</td>\n",
       "    </tr>\n",
       "    <tr>\n",
       "      <th>4</th>\n",
       "      <td>1005</td>\n",
       "      <td>Female</td>\n",
       "      <td>37</td>\n",
       "      <td>1</td>\n",
       "      <td>85000.00</td>\n",
       "      <td>1</td>\n",
       "      <td>0</td>\n",
       "      <td>1</td>\n",
       "      <td>115000.00</td>\n",
       "      <td>1</td>\n",
       "    </tr>\n",
       "    <tr>\n",
       "      <th>...</th>\n",
       "      <td>...</td>\n",
       "      <td>...</td>\n",
       "      <td>...</td>\n",
       "      <td>...</td>\n",
       "      <td>...</td>\n",
       "      <td>...</td>\n",
       "      <td>...</td>\n",
       "      <td>...</td>\n",
       "      <td>...</td>\n",
       "      <td>...</td>\n",
       "    </tr>\n",
       "    <tr>\n",
       "      <th>10000</th>\n",
       "      <td>11001</td>\n",
       "      <td>Male</td>\n",
       "      <td>33</td>\n",
       "      <td>4</td>\n",
       "      <td>8750.89</td>\n",
       "      <td>2</td>\n",
       "      <td>1</td>\n",
       "      <td>0</td>\n",
       "      <td>48920.22</td>\n",
       "      <td>0</td>\n",
       "    </tr>\n",
       "    <tr>\n",
       "      <th>10001</th>\n",
       "      <td>11002</td>\n",
       "      <td>Female</td>\n",
       "      <td>39</td>\n",
       "      <td>6</td>\n",
       "      <td>89450.33</td>\n",
       "      <td>1</td>\n",
       "      <td>0</td>\n",
       "      <td>1</td>\n",
       "      <td>102340.78</td>\n",
       "      <td>0</td>\n",
       "    </tr>\n",
       "    <tr>\n",
       "      <th>10002</th>\n",
       "      <td>11003</td>\n",
       "      <td>Male</td>\n",
       "      <td>31</td>\n",
       "      <td>7</td>\n",
       "      <td>142670.44</td>\n",
       "      <td>2</td>\n",
       "      <td>1</td>\n",
       "      <td>1</td>\n",
       "      <td>44580.89</td>\n",
       "      <td>0</td>\n",
       "    </tr>\n",
       "    <tr>\n",
       "      <th>10003</th>\n",
       "      <td>11004</td>\n",
       "      <td>Female</td>\n",
       "      <td>27</td>\n",
       "      <td>100000</td>\n",
       "      <td>22.00</td>\n",
       "      <td>1</td>\n",
       "      <td>1</td>\n",
       "      <td>0</td>\n",
       "      <td>150000.00</td>\n",
       "      <td>1</td>\n",
       "    </tr>\n",
       "    <tr>\n",
       "      <th>10004</th>\n",
       "      <td>11005</td>\n",
       "      <td>Male</td>\n",
       "      <td>29</td>\n",
       "      <td>50000</td>\n",
       "      <td>2.00</td>\n",
       "      <td>0</td>\n",
       "      <td>0</td>\n",
       "      <td>1</td>\n",
       "      <td>80000.00</td>\n",
       "      <td>1</td>\n",
       "    </tr>\n",
       "  </tbody>\n",
       "</table>\n",
       "<p>10005 rows × 10 columns</p>\n",
       "</div>"
      ],
      "text/plain": [
       "       CustomerID  Gender  Age  Tenure    Balance  NumOfProducts  HasCrCard  \\\n",
       "0            1001    Male   34       5   52000.00              2          1   \n",
       "1            1002  Female   35       2   58000.00              1          1   \n",
       "2            1003  Female   23       2   42000.00              1          0   \n",
       "3            1004    Male   42       1   53000.00              1          0   \n",
       "4            1005  Female   37       1   85000.00              1          0   \n",
       "...           ...     ...  ...     ...        ...            ...        ...   \n",
       "10000       11001    Male   33       4    8750.89              2          1   \n",
       "10001       11002  Female   39       6   89450.33              1          0   \n",
       "10002       11003    Male   31       7  142670.44              2          1   \n",
       "10003       11004  Female   27  100000      22.00              1          1   \n",
       "10004       11005    Male   29   50000       2.00              0          0   \n",
       "\n",
       "       IsActiveMember  EstimatedSalary  Exited  \n",
       "0                   1         72000.00       0  \n",
       "1                   1         68000.00       1  \n",
       "2                   0         48000.00       0  \n",
       "3                   1         98000.00       1  \n",
       "4                   1        115000.00       1  \n",
       "...               ...              ...     ...  \n",
       "10000               0         48920.22       0  \n",
       "10001               1        102340.78       0  \n",
       "10002               1         44580.89       0  \n",
       "10003               0        150000.00       1  \n",
       "10004               1         80000.00       1  \n",
       "\n",
       "[10005 rows x 10 columns]"
      ]
     },
     "execution_count": 175,
     "metadata": {},
     "output_type": "execute_result"
    }
   ],
   "source": [
    "df"
   ]
  },
  {
   "cell_type": "code",
   "execution_count": 176,
   "id": "8a001719-04cd-43cc-ac92-f40014b2d3bc",
   "metadata": {},
   "outputs": [
    {
     "data": {
      "text/plain": [
       "Exited\n",
       "0    5691\n",
       "1    4314\n",
       "Name: count, dtype: int64"
      ]
     },
     "execution_count": 176,
     "metadata": {},
     "output_type": "execute_result"
    }
   ],
   "source": [
    "df[\"Exited\"].value_counts()"
   ]
  },
  {
   "cell_type": "markdown",
   "id": "b69f452e-7b35-4abc-942d-07a925647724",
   "metadata": {},
   "source": [
    "upscaling"
   ]
  },
  {
   "cell_type": "code",
   "execution_count": 177,
   "id": "7629aa6c-9d65-422d-8563-cc4fab8c7699",
   "metadata": {},
   "outputs": [
    {
     "name": "stdout",
     "output_type": "stream",
     "text": [
      "Exited\n",
      "0    5691\n",
      "1    5691\n",
      "Name: count, dtype: int64\n"
     ]
    }
   ],
   "source": [
    "from sklearn.utils import resample\n",
    "df_majority = df[df.Exited==0]\n",
    "df_minority = df[df.Exited==1]\n",
    "df_minority_upsampled = resample(df_minority,\n",
    "                                 replace=True,    \n",
    "                                 n_samples=len(df_majority),    \n",
    "                                 random_state=123) \n",
    "df_upsampled = pd.concat([df_majority, df_minority_upsampled])\n",
    "print(df_upsampled.Exited.value_counts())"
   ]
  },
  {
   "cell_type": "code",
   "execution_count": 178,
   "id": "390c8e79-57b7-490d-bf6f-29ded3c5d819",
   "metadata": {},
   "outputs": [
    {
     "data": {
      "image/png": "[encoded data removed]",
      "text/plain": [
       "<Figure size 500x500 with 1 Axes>"
      ]
     },
     "metadata": {},
     "output_type": "display_data"
    }
   ],
   "source": [
    "churn_counts_upsampled = df_upsampled['Exited'].value_counts()\n",
    "plt.figure(figsize=(5, 5))\n",
    "plt.pie(churn_counts_upsampled, labels=churn_counts_upsampled.index, autopct='%1.1f%%', startangle=90)\n",
    "plt.title('Churn Count (0/1) for Upsampled Data')\n",
    "plt.show()"
   ]
  },
  {
   "cell_type": "code",
   "execution_count": 179,
   "id": "002c48e5-d90e-475e-9902-40a34dc93137",
   "metadata": {},
   "outputs": [
    {
     "data": {
      "text/html": [
       "<div>\n",
       "<style scoped>\n",
       "    .dataframe tbody tr th:only-of-type {\n",
       "        vertical-align: middle;\n",
       "    }\n",
       "\n",
       "    .dataframe tbody tr th {\n",
       "        vertical-align: top;\n",
       "    }\n",
       "\n",
       "    .dataframe thead th {\n",
       "        text-align: right;\n",
       "    }\n",
       "</style>\n",
       "<table border=\"1\" class=\"dataframe\">\n",
       "  <thead>\n",
       "    <tr style=\"text-align: right;\">\n",
       "      <th></th>\n",
       "      <th>CustomerID</th>\n",
       "      <th>Gender</th>\n",
       "      <th>Age</th>\n",
       "      <th>Tenure</th>\n",
       "      <th>Balance</th>\n",
       "      <th>NumOfProducts</th>\n",
       "      <th>HasCrCard</th>\n",
       "      <th>IsActiveMember</th>\n",
       "      <th>EstimatedSalary</th>\n",
       "      <th>Exited</th>\n",
       "    </tr>\n",
       "  </thead>\n",
       "  <tbody>\n",
       "    <tr>\n",
       "      <th>0</th>\n",
       "      <td>1001</td>\n",
       "      <td>Male</td>\n",
       "      <td>34</td>\n",
       "      <td>5</td>\n",
       "      <td>52000.0</td>\n",
       "      <td>2</td>\n",
       "      <td>1</td>\n",
       "      <td>1</td>\n",
       "      <td>72000.0</td>\n",
       "      <td>0</td>\n",
       "    </tr>\n",
       "    <tr>\n",
       "      <th>1</th>\n",
       "      <td>1002</td>\n",
       "      <td>Female</td>\n",
       "      <td>35</td>\n",
       "      <td>2</td>\n",
       "      <td>58000.0</td>\n",
       "      <td>1</td>\n",
       "      <td>1</td>\n",
       "      <td>1</td>\n",
       "      <td>68000.0</td>\n",
       "      <td>1</td>\n",
       "    </tr>\n",
       "    <tr>\n",
       "      <th>2</th>\n",
       "      <td>1003</td>\n",
       "      <td>Female</td>\n",
       "      <td>23</td>\n",
       "      <td>2</td>\n",
       "      <td>42000.0</td>\n",
       "      <td>1</td>\n",
       "      <td>0</td>\n",
       "      <td>0</td>\n",
       "      <td>48000.0</td>\n",
       "      <td>0</td>\n",
       "    </tr>\n",
       "    <tr>\n",
       "      <th>3</th>\n",
       "      <td>1004</td>\n",
       "      <td>Male</td>\n",
       "      <td>42</td>\n",
       "      <td>1</td>\n",
       "      <td>53000.0</td>\n",
       "      <td>1</td>\n",
       "      <td>0</td>\n",
       "      <td>1</td>\n",
       "      <td>98000.0</td>\n",
       "      <td>1</td>\n",
       "    </tr>\n",
       "    <tr>\n",
       "      <th>4</th>\n",
       "      <td>1005</td>\n",
       "      <td>Female</td>\n",
       "      <td>37</td>\n",
       "      <td>1</td>\n",
       "      <td>85000.0</td>\n",
       "      <td>1</td>\n",
       "      <td>0</td>\n",
       "      <td>1</td>\n",
       "      <td>115000.0</td>\n",
       "      <td>1</td>\n",
       "    </tr>\n",
       "  </tbody>\n",
       "</table>\n",
       "</div>"
      ],
      "text/plain": [
       "   CustomerID  Gender  Age  Tenure  Balance  NumOfProducts  HasCrCard  \\\n",
       "0        1001    Male   34       5  52000.0              2          1   \n",
       "1        1002  Female   35       2  58000.0              1          1   \n",
       "2        1003  Female   23       2  42000.0              1          0   \n",
       "3        1004    Male   42       1  53000.0              1          0   \n",
       "4        1005  Female   37       1  85000.0              1          0   \n",
       "\n",
       "   IsActiveMember  EstimatedSalary  Exited  \n",
       "0               1          72000.0       0  \n",
       "1               1          68000.0       1  \n",
       "2               0          48000.0       0  \n",
       "3               1          98000.0       1  \n",
       "4               1         115000.0       1  "
      ]
     },
     "execution_count": 179,
     "metadata": {},
     "output_type": "execute_result"
    }
   ],
   "source": [
    "df.head()"
   ]
  },
  {
   "cell_type": "code",
   "execution_count": 180,
   "id": "f20aaa33-076e-49ae-b08c-70712c741536",
   "metadata": {},
   "outputs": [
    {
     "data": {
      "text/plain": [
       "Exited\n",
       "0    102682.449357\n",
       "1     99752.901184\n",
       "Name: Balance, dtype: float64"
      ]
     },
     "execution_count": 180,
     "metadata": {},
     "output_type": "execute_result"
    }
   ],
   "source": [
    "df_upsampled.groupby('Exited')['Balance'].mean()"
   ]
  },
  {
   "cell_type": "code",
   "execution_count": 181,
   "id": "23ac0b6a-945e-44d2-8cf9-719084de0792",
   "metadata": {},
   "outputs": [
    {
     "data": {
      "text/plain": [
       "Exited  Gender\n",
       "0       Female    104530.098960\n",
       "        Male      100847.095846\n",
       "1       Female    101782.992728\n",
       "        Male       97497.662248\n",
       "Name: Balance, dtype: float64"
      ]
     },
     "execution_count": 181,
     "metadata": {},
     "output_type": "execute_result"
    }
   ],
   "source": [
    "df_upsampled.groupby(['Exited','Gender'])['Balance'].mean()"
   ]
  },
  {
   "cell_type": "code",
   "execution_count": 182,
   "id": "6782dbbb-23c7-45ba-8626-a47f263c7959",
   "metadata": {},
   "outputs": [
    {
     "data": {
      "text/plain": [
       "Exited\n",
       "0     5.211738\n",
       "1    22.858900\n",
       "Name: Tenure, dtype: float64"
      ]
     },
     "execution_count": 182,
     "metadata": {},
     "output_type": "execute_result"
    }
   ],
   "source": [
    "df_upsampled.groupby('Exited')['Tenure'].mean()"
   ]
  },
  {
   "cell_type": "code",
   "execution_count": 183,
   "id": "f526adcb-7a40-4c74-b6c2-63f42ad8466d",
   "metadata": {},
   "outputs": [
    {
     "data": {
      "text/plain": [
       "Exited\n",
       "0    39.489896\n",
       "1    39.477596\n",
       "Name: Age, dtype: float64"
      ]
     },
     "execution_count": 183,
     "metadata": {},
     "output_type": "execute_result"
    }
   ],
   "source": [
    "df_upsampled.groupby('Exited')['Age'].mean()"
   ]
  },
  {
   "cell_type": "code",
   "execution_count": 184,
   "id": "7fefa611-1baf-4635-840b-a439365bf2a2",
   "metadata": {},
   "outputs": [
    {
     "name": "stdout",
     "output_type": "stream",
     "text": [
      "Exited\n",
      "0    123117.877366\n",
      "1    121875.521429\n",
      "Name: EstimatedSalary, dtype: float64\n"
     ]
    }
   ],
   "source": [
    "print(df_upsampled.groupby('Exited')['EstimatedSalary'].mean())"
   ]
  },
  {
   "cell_type": "code",
   "execution_count": 185,
   "id": "5c21f07f-3906-4c71-a01e-4d64f72402c3",
   "metadata": {},
   "outputs": [
    {
     "data": {
      "image/png": "[encoded data removed]",
      "text/plain": [
       "<Figure size 640x480 with 1 Axes>"
      ]
     },
     "metadata": {},
     "output_type": "display_data"
    }
   ],
   "source": [
    "df_upsampled.groupby(\"Exited\")[\"EstimatedSalary\"].mean().plot(kind=\"bar\")\n",
    "plt.title(\"EstimatedSalary\")\n",
    "plt.xlabel(\"Exited\")\n",
    "plt.ylabel(\"Average Estimated Salary\")\n",
    "plt.show()"
   ]
  },
  {
   "cell_type": "markdown",
   "id": "51b35afb-9c82-49a5-8cf0-3b88660aa6b3",
   "metadata": {},
   "source": [
    "feature engineering"
   ]
  },
  {
   "cell_type": "code",
   "execution_count": 186,
   "id": "a4585c80-ddeb-4c74-abe6-8f68251348a1",
   "metadata": {},
   "outputs": [
    {
     "data": {
      "text/plain": [
       "Index(['CustomerID', 'Gender', 'Age', 'Tenure', 'Balance', 'NumOfProducts',\n",
       "       'HasCrCard', 'IsActiveMember', 'EstimatedSalary', 'Exited'],\n",
       "      dtype='object')"
      ]
     },
     "execution_count": 186,
     "metadata": {},
     "output_type": "execute_result"
    }
   ],
   "source": [
    "df.columns"
   ]
  },
  {
   "cell_type": "code",
   "execution_count": 187,
   "id": "89398c0c-143d-49b9-973e-8e0c6bdbf0e0",
   "metadata": {},
   "outputs": [],
   "source": [
    "y_upsampled = df_upsampled[[\"Exited\"]]\n",
    "x_upsampled = df_upsampled[[\"CustomerID\",\"Age\",\"Gender\",\"Tenure\",\"Balance\",\"NumOfProducts\",\"HasCrCard\",\"IsActiveMember\",\"EstimatedSalary\"]].copy()"
   ]
  },
  {
   "cell_type": "code",
   "execution_count": 188,
   "id": "23cc0e56-55e9-4eff-9147-e4c9dadb7a66",
   "metadata": {},
   "outputs": [
    {
     "data": {
      "text/html": [
       "<div>\n",
       "<style scoped>\n",
       "    .dataframe tbody tr th:only-of-type {\n",
       "        vertical-align: middle;\n",
       "    }\n",
       "\n",
       "    .dataframe tbody tr th {\n",
       "        vertical-align: top;\n",
       "    }\n",
       "\n",
       "    .dataframe thead th {\n",
       "        text-align: right;\n",
       "    }\n",
       "</style>\n",
       "<table border=\"1\" class=\"dataframe\">\n",
       "  <thead>\n",
       "    <tr style=\"text-align: right;\">\n",
       "      <th></th>\n",
       "      <th>CustomerID</th>\n",
       "      <th>Age</th>\n",
       "      <th>Gender</th>\n",
       "      <th>Tenure</th>\n",
       "      <th>Balance</th>\n",
       "      <th>NumOfProducts</th>\n",
       "      <th>HasCrCard</th>\n",
       "      <th>IsActiveMember</th>\n",
       "      <th>EstimatedSalary</th>\n",
       "    </tr>\n",
       "  </thead>\n",
       "  <tbody>\n",
       "    <tr>\n",
       "      <th>0</th>\n",
       "      <td>1001</td>\n",
       "      <td>34</td>\n",
       "      <td>Male</td>\n",
       "      <td>5</td>\n",
       "      <td>52000.00</td>\n",
       "      <td>2</td>\n",
       "      <td>1</td>\n",
       "      <td>1</td>\n",
       "      <td>72000.00</td>\n",
       "    </tr>\n",
       "    <tr>\n",
       "      <th>2</th>\n",
       "      <td>1003</td>\n",
       "      <td>23</td>\n",
       "      <td>Female</td>\n",
       "      <td>2</td>\n",
       "      <td>42000.00</td>\n",
       "      <td>1</td>\n",
       "      <td>0</td>\n",
       "      <td>0</td>\n",
       "      <td>48000.00</td>\n",
       "    </tr>\n",
       "    <tr>\n",
       "      <th>5</th>\n",
       "      <td>1006</td>\n",
       "      <td>42</td>\n",
       "      <td>Female</td>\n",
       "      <td>6</td>\n",
       "      <td>1950000.00</td>\n",
       "      <td>2</td>\n",
       "      <td>1</td>\n",
       "      <td>0</td>\n",
       "      <td>128000.00</td>\n",
       "    </tr>\n",
       "    <tr>\n",
       "      <th>6</th>\n",
       "      <td>1007</td>\n",
       "      <td>39</td>\n",
       "      <td>Female</td>\n",
       "      <td>1</td>\n",
       "      <td>310000.00</td>\n",
       "      <td>2</td>\n",
       "      <td>0</td>\n",
       "      <td>0</td>\n",
       "      <td>295000.00</td>\n",
       "    </tr>\n",
       "    <tr>\n",
       "      <th>7</th>\n",
       "      <td>1008</td>\n",
       "      <td>43</td>\n",
       "      <td>Female</td>\n",
       "      <td>2</td>\n",
       "      <td>128500.00</td>\n",
       "      <td>1</td>\n",
       "      <td>1</td>\n",
       "      <td>1</td>\n",
       "      <td>81000.00</td>\n",
       "    </tr>\n",
       "    <tr>\n",
       "      <th>...</th>\n",
       "      <td>...</td>\n",
       "      <td>...</td>\n",
       "      <td>...</td>\n",
       "      <td>...</td>\n",
       "      <td>...</td>\n",
       "      <td>...</td>\n",
       "      <td>...</td>\n",
       "      <td>...</td>\n",
       "      <td>...</td>\n",
       "    </tr>\n",
       "    <tr>\n",
       "      <th>2080</th>\n",
       "      <td>3081</td>\n",
       "      <td>32</td>\n",
       "      <td>Female</td>\n",
       "      <td>7</td>\n",
       "      <td>156789.01</td>\n",
       "      <td>1</td>\n",
       "      <td>0</td>\n",
       "      <td>0</td>\n",
       "      <td>167890.12</td>\n",
       "    </tr>\n",
       "    <tr>\n",
       "      <th>9338</th>\n",
       "      <td>10339</td>\n",
       "      <td>52</td>\n",
       "      <td>Female</td>\n",
       "      <td>6</td>\n",
       "      <td>143567.89</td>\n",
       "      <td>1</td>\n",
       "      <td>0</td>\n",
       "      <td>1</td>\n",
       "      <td>6789.23</td>\n",
       "    </tr>\n",
       "    <tr>\n",
       "      <th>3038</th>\n",
       "      <td>4039</td>\n",
       "      <td>48</td>\n",
       "      <td>Female</td>\n",
       "      <td>10</td>\n",
       "      <td>89234.67</td>\n",
       "      <td>1</td>\n",
       "      <td>0</td>\n",
       "      <td>0</td>\n",
       "      <td>96543.21</td>\n",
       "    </tr>\n",
       "    <tr>\n",
       "      <th>4850</th>\n",
       "      <td>5851</td>\n",
       "      <td>26</td>\n",
       "      <td>Male</td>\n",
       "      <td>1</td>\n",
       "      <td>176543.21</td>\n",
       "      <td>1</td>\n",
       "      <td>0</td>\n",
       "      <td>0</td>\n",
       "      <td>156789.34</td>\n",
       "    </tr>\n",
       "    <tr>\n",
       "      <th>3094</th>\n",
       "      <td>4095</td>\n",
       "      <td>34</td>\n",
       "      <td>Female</td>\n",
       "      <td>5</td>\n",
       "      <td>4000.00</td>\n",
       "      <td>2</td>\n",
       "      <td>0</td>\n",
       "      <td>1</td>\n",
       "      <td>79834.52</td>\n",
       "    </tr>\n",
       "  </tbody>\n",
       "</table>\n",
       "<p>11382 rows × 9 columns</p>\n",
       "</div>"
      ],
      "text/plain": [
       "      CustomerID  Age  Gender  Tenure     Balance  NumOfProducts  HasCrCard  \\\n",
       "0           1001   34    Male       5    52000.00              2          1   \n",
       "2           1003   23  Female       2    42000.00              1          0   \n",
       "5           1006   42  Female       6  1950000.00              2          1   \n",
       "6           1007   39  Female       1   310000.00              2          0   \n",
       "7           1008   43  Female       2   128500.00              1          1   \n",
       "...          ...  ...     ...     ...         ...            ...        ...   \n",
       "2080        3081   32  Female       7   156789.01              1          0   \n",
       "9338       10339   52  Female       6   143567.89              1          0   \n",
       "3038        4039   48  Female      10    89234.67              1          0   \n",
       "4850        5851   26    Male       1   176543.21              1          0   \n",
       "3094        4095   34  Female       5     4000.00              2          0   \n",
       "\n",
       "      IsActiveMember  EstimatedSalary  \n",
       "0                  1         72000.00  \n",
       "2                  0         48000.00  \n",
       "5                  0        128000.00  \n",
       "6                  0        295000.00  \n",
       "7                  1         81000.00  \n",
       "...              ...              ...  \n",
       "2080               0        167890.12  \n",
       "9338               1          6789.23  \n",
       "3038               0         96543.21  \n",
       "4850               0        156789.34  \n",
       "3094               1         79834.52  \n",
       "\n",
       "[11382 rows x 9 columns]"
      ]
     },
     "execution_count": 188,
     "metadata": {},
     "output_type": "execute_result"
    }
   ],
   "source": [
    "x_upsampled"
   ]
  },
  {
   "cell_type": "code",
   "execution_count": 189,
   "id": "f20b76c4-ea06-41e6-ac7a-cfa83b384782",
   "metadata": {},
   "outputs": [
    {
     "data": {
      "text/html": [
       "<div>\n",
       "<style scoped>\n",
       "    .dataframe tbody tr th:only-of-type {\n",
       "        vertical-align: middle;\n",
       "    }\n",
       "\n",
       "    .dataframe tbody tr th {\n",
       "        vertical-align: top;\n",
       "    }\n",
       "\n",
       "    .dataframe thead th {\n",
       "        text-align: right;\n",
       "    }\n",
       "</style>\n",
       "<table border=\"1\" class=\"dataframe\">\n",
       "  <thead>\n",
       "    <tr style=\"text-align: right;\">\n",
       "      <th></th>\n",
       "      <th>Exited</th>\n",
       "    </tr>\n",
       "  </thead>\n",
       "  <tbody>\n",
       "    <tr>\n",
       "      <th>0</th>\n",
       "      <td>0</td>\n",
       "    </tr>\n",
       "    <tr>\n",
       "      <th>2</th>\n",
       "      <td>0</td>\n",
       "    </tr>\n",
       "    <tr>\n",
       "      <th>5</th>\n",
       "      <td>0</td>\n",
       "    </tr>\n",
       "    <tr>\n",
       "      <th>6</th>\n",
       "      <td>0</td>\n",
       "    </tr>\n",
       "    <tr>\n",
       "      <th>7</th>\n",
       "      <td>0</td>\n",
       "    </tr>\n",
       "    <tr>\n",
       "      <th>...</th>\n",
       "      <td>...</td>\n",
       "    </tr>\n",
       "    <tr>\n",
       "      <th>2080</th>\n",
       "      <td>1</td>\n",
       "    </tr>\n",
       "    <tr>\n",
       "      <th>9338</th>\n",
       "      <td>1</td>\n",
       "    </tr>\n",
       "    <tr>\n",
       "      <th>3038</th>\n",
       "      <td>1</td>\n",
       "    </tr>\n",
       "    <tr>\n",
       "      <th>4850</th>\n",
       "      <td>1</td>\n",
       "    </tr>\n",
       "    <tr>\n",
       "      <th>3094</th>\n",
       "      <td>1</td>\n",
       "    </tr>\n",
       "  </tbody>\n",
       "</table>\n",
       "<p>11382 rows × 1 columns</p>\n",
       "</div>"
      ],
      "text/plain": [
       "      Exited\n",
       "0          0\n",
       "2          0\n",
       "5          0\n",
       "6          0\n",
       "7          0\n",
       "...      ...\n",
       "2080       1\n",
       "9338       1\n",
       "3038       1\n",
       "4850       1\n",
       "3094       1\n",
       "\n",
       "[11382 rows x 1 columns]"
      ]
     },
     "execution_count": 189,
     "metadata": {},
     "output_type": "execute_result"
    }
   ],
   "source": [
    "y_upsampled"
   ]
  },
  {
   "cell_type": "code",
   "execution_count": 190,
   "id": "3405a54e-f130-40f0-a224-e95c74f6b624",
   "metadata": {},
   "outputs": [
    {
     "data": {
      "text/html": [
       "<div>\n",
       "<style scoped>\n",
       "    .dataframe tbody tr th:only-of-type {\n",
       "        vertical-align: middle;\n",
       "    }\n",
       "\n",
       "    .dataframe tbody tr th {\n",
       "        vertical-align: top;\n",
       "    }\n",
       "\n",
       "    .dataframe thead th {\n",
       "        text-align: right;\n",
       "    }\n",
       "</style>\n",
       "<table border=\"1\" class=\"dataframe\">\n",
       "  <thead>\n",
       "    <tr style=\"text-align: right;\">\n",
       "      <th></th>\n",
       "      <th>CustomerID</th>\n",
       "      <th>Gender</th>\n",
       "      <th>Age</th>\n",
       "      <th>Tenure</th>\n",
       "      <th>Balance</th>\n",
       "      <th>NumOfProducts</th>\n",
       "      <th>HasCrCard</th>\n",
       "      <th>IsActiveMember</th>\n",
       "      <th>EstimatedSalary</th>\n",
       "      <th>Exited</th>\n",
       "    </tr>\n",
       "  </thead>\n",
       "  <tbody>\n",
       "    <tr>\n",
       "      <th>0</th>\n",
       "      <td>1001</td>\n",
       "      <td>Male</td>\n",
       "      <td>34</td>\n",
       "      <td>5</td>\n",
       "      <td>52000.0</td>\n",
       "      <td>2</td>\n",
       "      <td>1</td>\n",
       "      <td>1</td>\n",
       "      <td>72000.0</td>\n",
       "      <td>0</td>\n",
       "    </tr>\n",
       "    <tr>\n",
       "      <th>1</th>\n",
       "      <td>1002</td>\n",
       "      <td>Female</td>\n",
       "      <td>35</td>\n",
       "      <td>2</td>\n",
       "      <td>58000.0</td>\n",
       "      <td>1</td>\n",
       "      <td>1</td>\n",
       "      <td>1</td>\n",
       "      <td>68000.0</td>\n",
       "      <td>1</td>\n",
       "    </tr>\n",
       "    <tr>\n",
       "      <th>2</th>\n",
       "      <td>1003</td>\n",
       "      <td>Female</td>\n",
       "      <td>23</td>\n",
       "      <td>2</td>\n",
       "      <td>42000.0</td>\n",
       "      <td>1</td>\n",
       "      <td>0</td>\n",
       "      <td>0</td>\n",
       "      <td>48000.0</td>\n",
       "      <td>0</td>\n",
       "    </tr>\n",
       "    <tr>\n",
       "      <th>3</th>\n",
       "      <td>1004</td>\n",
       "      <td>Male</td>\n",
       "      <td>42</td>\n",
       "      <td>1</td>\n",
       "      <td>53000.0</td>\n",
       "      <td>1</td>\n",
       "      <td>0</td>\n",
       "      <td>1</td>\n",
       "      <td>98000.0</td>\n",
       "      <td>1</td>\n",
       "    </tr>\n",
       "    <tr>\n",
       "      <th>4</th>\n",
       "      <td>1005</td>\n",
       "      <td>Female</td>\n",
       "      <td>37</td>\n",
       "      <td>1</td>\n",
       "      <td>85000.0</td>\n",
       "      <td>1</td>\n",
       "      <td>0</td>\n",
       "      <td>1</td>\n",
       "      <td>115000.0</td>\n",
       "      <td>1</td>\n",
       "    </tr>\n",
       "  </tbody>\n",
       "</table>\n",
       "</div>"
      ],
      "text/plain": [
       "   CustomerID  Gender  Age  Tenure  Balance  NumOfProducts  HasCrCard  \\\n",
       "0        1001    Male   34       5  52000.0              2          1   \n",
       "1        1002  Female   35       2  58000.0              1          1   \n",
       "2        1003  Female   23       2  42000.0              1          0   \n",
       "3        1004    Male   42       1  53000.0              1          0   \n",
       "4        1005  Female   37       1  85000.0              1          0   \n",
       "\n",
       "   IsActiveMember  EstimatedSalary  Exited  \n",
       "0               1          72000.0       0  \n",
       "1               1          68000.0       1  \n",
       "2               0          48000.0       0  \n",
       "3               1          98000.0       1  \n",
       "4               1         115000.0       1  "
      ]
     },
     "execution_count": 190,
     "metadata": {},
     "output_type": "execute_result"
    }
   ],
   "source": [
    "df.head()"
   ]
  },
  {
   "cell_type": "code",
   "execution_count": 191,
   "id": "684889eb-4512-4c91-90ba-1dd982c5c5b6",
   "metadata": {},
   "outputs": [],
   "source": [
    "x_upsampled[\"Gender\"] = x_upsampled[\"Gender\"].map({\"Female\": 1, \"Male\": 0})"
   ]
  },
  {
   "cell_type": "code",
   "execution_count": 192,
   "id": "7b61f01e-90df-4c80-98cc-57ee3f25fe5c",
   "metadata": {},
   "outputs": [
    {
     "data": {
      "text/html": [
       "<div>\n",
       "<style scoped>\n",
       "    .dataframe tbody tr th:only-of-type {\n",
       "        vertical-align: middle;\n",
       "    }\n",
       "\n",
       "    .dataframe tbody tr th {\n",
       "        vertical-align: top;\n",
       "    }\n",
       "\n",
       "    .dataframe thead th {\n",
       "        text-align: right;\n",
       "    }\n",
       "</style>\n",
       "<table border=\"1\" class=\"dataframe\">\n",
       "  <thead>\n",
       "    <tr style=\"text-align: right;\">\n",
       "      <th></th>\n",
       "      <th>Exited</th>\n",
       "    </tr>\n",
       "  </thead>\n",
       "  <tbody>\n",
       "    <tr>\n",
       "      <th>0</th>\n",
       "      <td>0</td>\n",
       "    </tr>\n",
       "    <tr>\n",
       "      <th>2</th>\n",
       "      <td>0</td>\n",
       "    </tr>\n",
       "    <tr>\n",
       "      <th>5</th>\n",
       "      <td>0</td>\n",
       "    </tr>\n",
       "    <tr>\n",
       "      <th>6</th>\n",
       "      <td>0</td>\n",
       "    </tr>\n",
       "    <tr>\n",
       "      <th>7</th>\n",
       "      <td>0</td>\n",
       "    </tr>\n",
       "    <tr>\n",
       "      <th>...</th>\n",
       "      <td>...</td>\n",
       "    </tr>\n",
       "    <tr>\n",
       "      <th>2080</th>\n",
       "      <td>1</td>\n",
       "    </tr>\n",
       "    <tr>\n",
       "      <th>9338</th>\n",
       "      <td>1</td>\n",
       "    </tr>\n",
       "    <tr>\n",
       "      <th>3038</th>\n",
       "      <td>1</td>\n",
       "    </tr>\n",
       "    <tr>\n",
       "      <th>4850</th>\n",
       "      <td>1</td>\n",
       "    </tr>\n",
       "    <tr>\n",
       "      <th>3094</th>\n",
       "      <td>1</td>\n",
       "    </tr>\n",
       "  </tbody>\n",
       "</table>\n",
       "<p>11382 rows × 1 columns</p>\n",
       "</div>"
      ],
      "text/plain": [
       "      Exited\n",
       "0          0\n",
       "2          0\n",
       "5          0\n",
       "6          0\n",
       "7          0\n",
       "...      ...\n",
       "2080       1\n",
       "9338       1\n",
       "3038       1\n",
       "4850       1\n",
       "3094       1\n",
       "\n",
       "[11382 rows x 1 columns]"
      ]
     },
     "execution_count": 192,
     "metadata": {},
     "output_type": "execute_result"
    }
   ],
   "source": [
    "y_upsampled"
   ]
  },
  {
   "cell_type": "code",
   "execution_count": 193,
   "id": "d951bf34-1eea-4d5b-bb85-1cec66a9e2a2",
   "metadata": {},
   "outputs": [
    {
     "data": {
      "text/plain": [
       "array([0, 1], dtype=int64)"
      ]
     },
     "execution_count": 193,
     "metadata": {},
     "output_type": "execute_result"
    }
   ],
   "source": [
    "x_upsampled[\"Gender\"].unique()"
   ]
  },
  {
   "cell_type": "code",
   "execution_count": 194,
   "id": "8f1a621b-edf2-4d6d-a58d-7b200872b115",
   "metadata": {},
   "outputs": [
    {
     "data": {
      "text/html": [
       "<div>\n",
       "<style scoped>\n",
       "    .dataframe tbody tr th:only-of-type {\n",
       "        vertical-align: middle;\n",
       "    }\n",
       "\n",
       "    .dataframe tbody tr th {\n",
       "        vertical-align: top;\n",
       "    }\n",
       "\n",
       "    .dataframe thead th {\n",
       "        text-align: right;\n",
       "    }\n",
       "</style>\n",
       "<table border=\"1\" class=\"dataframe\">\n",
       "  <thead>\n",
       "    <tr style=\"text-align: right;\">\n",
       "      <th></th>\n",
       "      <th>CustomerID</th>\n",
       "      <th>Age</th>\n",
       "      <th>Gender</th>\n",
       "      <th>Tenure</th>\n",
       "      <th>Balance</th>\n",
       "      <th>NumOfProducts</th>\n",
       "      <th>HasCrCard</th>\n",
       "      <th>IsActiveMember</th>\n",
       "      <th>EstimatedSalary</th>\n",
       "    </tr>\n",
       "  </thead>\n",
       "  <tbody>\n",
       "    <tr>\n",
       "      <th>0</th>\n",
       "      <td>1001</td>\n",
       "      <td>34</td>\n",
       "      <td>0</td>\n",
       "      <td>5</td>\n",
       "      <td>52000.0</td>\n",
       "      <td>2</td>\n",
       "      <td>1</td>\n",
       "      <td>1</td>\n",
       "      <td>72000.0</td>\n",
       "    </tr>\n",
       "    <tr>\n",
       "      <th>2</th>\n",
       "      <td>1003</td>\n",
       "      <td>23</td>\n",
       "      <td>1</td>\n",
       "      <td>2</td>\n",
       "      <td>42000.0</td>\n",
       "      <td>1</td>\n",
       "      <td>0</td>\n",
       "      <td>0</td>\n",
       "      <td>48000.0</td>\n",
       "    </tr>\n",
       "    <tr>\n",
       "      <th>5</th>\n",
       "      <td>1006</td>\n",
       "      <td>42</td>\n",
       "      <td>1</td>\n",
       "      <td>6</td>\n",
       "      <td>1950000.0</td>\n",
       "      <td>2</td>\n",
       "      <td>1</td>\n",
       "      <td>0</td>\n",
       "      <td>128000.0</td>\n",
       "    </tr>\n",
       "    <tr>\n",
       "      <th>6</th>\n",
       "      <td>1007</td>\n",
       "      <td>39</td>\n",
       "      <td>1</td>\n",
       "      <td>1</td>\n",
       "      <td>310000.0</td>\n",
       "      <td>2</td>\n",
       "      <td>0</td>\n",
       "      <td>0</td>\n",
       "      <td>295000.0</td>\n",
       "    </tr>\n",
       "    <tr>\n",
       "      <th>7</th>\n",
       "      <td>1008</td>\n",
       "      <td>43</td>\n",
       "      <td>1</td>\n",
       "      <td>2</td>\n",
       "      <td>128500.0</td>\n",
       "      <td>1</td>\n",
       "      <td>1</td>\n",
       "      <td>1</td>\n",
       "      <td>81000.0</td>\n",
       "    </tr>\n",
       "  </tbody>\n",
       "</table>\n",
       "</div>"
      ],
      "text/plain": [
       "   CustomerID  Age  Gender  Tenure    Balance  NumOfProducts  HasCrCard  \\\n",
       "0        1001   34       0       5    52000.0              2          1   \n",
       "2        1003   23       1       2    42000.0              1          0   \n",
       "5        1006   42       1       6  1950000.0              2          1   \n",
       "6        1007   39       1       1   310000.0              2          0   \n",
       "7        1008   43       1       2   128500.0              1          1   \n",
       "\n",
       "   IsActiveMember  EstimatedSalary  \n",
       "0               1          72000.0  \n",
       "2               0          48000.0  \n",
       "5               0         128000.0  \n",
       "6               0         295000.0  \n",
       "7               1          81000.0  "
      ]
     },
     "execution_count": 194,
     "metadata": {},
     "output_type": "execute_result"
    }
   ],
   "source": [
    "x_upsampled.head()"
   ]
  },
  {
   "cell_type": "code",
   "execution_count": 195,
   "id": "d164c08b-90f5-4f85-9d99-fe68c6c133ba",
   "metadata": {},
   "outputs": [
    {
     "data": {
      "text/plain": [
       "numpy.int64"
      ]
     },
     "execution_count": 195,
     "metadata": {},
     "output_type": "execute_result"
    }
   ],
   "source": [
    "type(x_upsampled[\"Gender\"].iloc[0])\n"
   ]
  },
  {
   "cell_type": "code",
   "execution_count": 196,
   "id": "d43f1056-2737-48a2-8b0d-532346dd0722",
   "metadata": {},
   "outputs": [
    {
     "data": {
      "text/plain": [
       "numpy.int64"
      ]
     },
     "execution_count": 196,
     "metadata": {},
     "output_type": "execute_result"
    }
   ],
   "source": [
    "type(y_upsampled[\"Exited\"].iloc[0])"
   ]
  },
  {
   "cell_type": "markdown",
   "id": "ab7e24e8-bb12-44b3-b636-3d59e41aa211",
   "metadata": {},
   "source": [
    "train test split"
   ]
  },
  {
   "cell_type": "code",
   "execution_count": 197,
   "id": "783d238c-b5a2-4e8c-a6bd-af1329ba0854",
   "metadata": {},
   "outputs": [],
   "source": [
    "from sklearn.model_selection import train_test_split\n",
    "x_train, x_test, y_train, y_test = train_test_split(x_upsampled, y_upsampled, test_size=0.2, random_state=42, stratify=y_upsampled)"
   ]
  },
  {
   "cell_type": "code",
   "execution_count": 198,
   "id": "87f3c84a-97b5-4c96-b3bb-6dd10d076306",
   "metadata": {},
   "outputs": [
    {
     "data": {
      "text/plain": [
       "['scaler.pkl']"
      ]
     },
     "execution_count": 198,
     "metadata": {},
     "output_type": "execute_result"
    }
   ],
   "source": [
    "from sklearn.preprocessing import StandardScaler\n",
    "scaler = StandardScaler()\n",
    "x_train = scaler.fit_transform(x_train)\n",
    "x_test = scaler.transform(x_test)\n",
    "\n",
    "import joblib\n",
    "joblib.dump(scaler, \"scaler.pkl\")"
   ]
  },
  {
   "cell_type": "code",
   "execution_count": 199,
   "id": "08405591-a338-4038-af7b-094a567b4056",
   "metadata": {},
   "outputs": [
    {
     "data": {
      "text/plain": [
       "array([[-1.07872516,  1.22517046,  0.98117658, ...,  0.93376449,\n",
       "        -1.02344893, -0.43688184],\n",
       "       [-0.06199999, -1.32655838, -1.01918454, ..., -1.07093385,\n",
       "         0.97708832,  1.23167099],\n",
       "       [ 1.21391072, -1.22841496,  0.98117658, ..., -1.07093385,\n",
       "         0.97708832, -1.00772643],\n",
       "       ...,\n",
       "       [-1.42902253,  2.20660463, -1.01918454, ..., -1.07093385,\n",
       "        -1.02344893,  1.20655889],\n",
       "       [-0.60349415, -1.62098863, -1.01918454, ...,  0.93376449,\n",
       "        -1.02344893,  0.86600133],\n",
       "       [ 1.06343816, -0.54141104, -1.01918454, ...,  0.93376449,\n",
       "        -1.02344893,  1.23167099]])"
      ]
     },
     "execution_count": 199,
     "metadata": {},
     "output_type": "execute_result"
    }
   ],
   "source": [
    "x_train"
   ]
  },
  {
   "cell_type": "code",
   "execution_count": 200,
   "id": "c03910c1-d4db-430f-8458-9b8f03610e95",
   "metadata": {},
   "outputs": [
    {
     "data": {
      "text/plain": [
       "array([[-1.31961931,  0.34187971,  0.98117658, ...,  0.93376449,\n",
       "         0.97708832, -0.26612901],\n",
       "       [ 1.16628408, -0.34512421,  0.98117658, ..., -1.07093385,\n",
       "         0.97708832, -1.21297161],\n",
       "       [-0.52860299, -0.54141104, -1.01918454, ..., -1.07093385,\n",
       "         0.97708832,  0.22506309],\n",
       "       ...,\n",
       "       [ 0.28001449, -1.13027154,  0.98117658, ...,  0.93376449,\n",
       "        -1.02344893,  0.22505939],\n",
       "       [-0.2031543 ,  0.24373629, -1.01918454, ...,  0.93376449,\n",
       "        -1.02344893, -0.64231191],\n",
       "       [ 0.13506385,  1.81403096,  0.98117658, ...,  0.93376449,\n",
       "        -1.02344893,  1.04507888]])"
      ]
     },
     "execution_count": 200,
     "metadata": {},
     "output_type": "execute_result"
    }
   ],
   "source": [
    "x_test"
   ]
  },
  {
   "cell_type": "code",
   "execution_count": 201,
   "id": "364a2818-68d7-4baa-94f1-cae909421b3e",
   "metadata": {},
   "outputs": [],
   "source": [
    "from sklearn.metrics import accuracy_score\n",
    "def modelperformance(model_name, predictions):\n",
    "  print(\"Accuracy score on {} is {}\".format(model_name, accuracy_score(y_test,predictions)))"
   ]
  },
  {
   "cell_type": "markdown",
   "id": "e8e93974-065f-4648-a71e-bf29efcf15ba",
   "metadata": {},
   "source": [
    "Importing grid search for hyper tunning"
   ]
  },
  {
   "cell_type": "code",
   "execution_count": 202,
   "id": "523df35d-bbe9-4b0f-8775-b57f01b0dbf8",
   "metadata": {},
   "outputs": [],
   "source": [
    "from sklearn.model_selection import GridSearchCV"
   ]
  },
  {
   "cell_type": "markdown",
   "id": "94c45461-fe98-4a53-a1c9-4f9655328a7f",
   "metadata": {},
   "source": [
    "Logistic Regression"
   ]
  },
  {
   "cell_type": "code",
   "execution_count": 203,
   "id": "cd93d8df-9541-4e57-8a97-724f821d1bfb",
   "metadata": {},
   "outputs": [
    {
     "name": "stdout",
     "output_type": "stream",
     "text": [
      "Best parameters: {'C': 10, 'penalty': 'l2', 'solver': 'liblinear'}\n"
     ]
    },
    {
     "data": {
      "text/plain": [
       "['logistic_regression_model.pkl']"
      ]
     },
     "execution_count": 203,
     "metadata": {},
     "output_type": "execute_result"
    }
   ],
   "source": [
    "from sklearn.linear_model import LogisticRegression\n",
    "from sklearn.impute import SimpleImputer\n",
    "\n",
    "model = LogisticRegression(\n",
    "    max_iter=2000, \n",
    "    random_state=42,\n",
    "    class_weight='balanced'  \n",
    ")\n",
    "\n",
    "param_grid = {\n",
    "    'C': [0.01, 0.1, 1, 10, 100],\n",
    "    'penalty': ['l1', 'l2'],\n",
    "    'solver': ['liblinear']\n",
    "}\n",
    "\n",
    "grid_search = GridSearchCV(\n",
    "    model, \n",
    "    param_grid, \n",
    "    cv=5, \n",
    "    scoring='f1',  \n",
    "    n_jobs=-1\n",
    ")\n",
    "\n",
    "grid_search.fit(x_train, y_train.values.ravel())  \n",
    "\n",
    "best_lr_model = grid_search.best_estimator_\n",
    "print(f\"Best parameters: {grid_search.best_params_}\")\n",
    "\n",
    "joblib.dump(best_lr_model, \"logistic_regression_model.pkl\")"
   ]
  },
  {
   "cell_type": "markdown",
   "id": "45c62d77-4db0-4995-ae3e-ab11fddd4b18",
   "metadata": {},
   "source": [
    "Random Forest"
   ]
  },
  {
   "cell_type": "code",
   "execution_count": 204,
   "id": "4837a2bc-a796-4207-aa00-1142b6aea16c",
   "metadata": {},
   "outputs": [
    {
     "data": {
      "text/plain": [
       "['random_forest_model.pkl']"
      ]
     },
     "execution_count": 204,
     "metadata": {},
     "output_type": "execute_result"
    }
   ],
   "source": [
    "from sklearn.ensemble import RandomForestClassifier\n",
    "rfc_model = RandomForestClassifier()\n",
    "\n",
    "param_grid = {\n",
    "    \"n_estimators\": [64, 128],\n",
    "    \"max_features\": [3, 4],\n",
    "    \"bootstrap\": [True]\n",
    "}\n",
    "\n",
    "grid_rfc = GridSearchCV(rfc_model, param_grid, cv=5)\n",
    "grid_rfc.fit(x_train, y_train.values.ravel())\n",
    "\n",
    "best_rfc_model = grid_rfc.best_estimator_\n",
    "\n",
    "joblib.dump(best_rfc_model, \"random_forest_model.pkl\")\n"
   ]
  },
  {
   "cell_type": "code",
   "execution_count": 205,
   "id": "205bcd2e-5734-445d-807a-665eefea93a6",
   "metadata": {},
   "outputs": [
    {
     "data": {
      "text/plain": [
       "['xgboost_model.pkl']"
      ]
     },
     "execution_count": 205,
     "metadata": {},
     "output_type": "execute_result"
    }
   ],
   "source": [
    "import xgboost as xgb\n",
    "\n",
    "xgb_model = xgb.XGBClassifier(objective='binary:logistic', eval_metric='logloss', random_state=42)\n",
    "\n",
    "param_grid_xgb = {\n",
    "    'n_estimators': [100],\n",
    "    'learning_rate': [0.1],\n",
    "    'max_depth': [3],\n",
    "    'subsample': [1.0],\n",
    "    'colsample_bytree': [1.0]\n",
    "}\n",
    "\n",
    "grid_xgb = GridSearchCV(xgb_model, param_grid_xgb, cv=5, scoring='accuracy')\n",
    "grid_xgb.fit(x_train, y_train.values.ravel())\n",
    "\n",
    "best_xgb_model = grid_xgb.best_estimator_\n",
    "\n",
    "joblib.dump(best_xgb_model, \"xgboost_model.pkl\")\n"
   ]
  },
  {
   "cell_type": "markdown",
   "id": "08edfb38-128c-4221-82b2-54f075329199",
   "metadata": {},
   "source": [
    "model selection"
   ]
  },
  {
   "cell_type": "code",
   "execution_count": 206,
   "id": "378a07f9-0a0c-4ee0-96d5-ab9100f79d19",
   "metadata": {},
   "outputs": [
    {
     "name": "stdout",
     "output_type": "stream",
     "text": [
      "Logistic Regression: Accuracy = 0.6039\n",
      "Random Forest Classifier: Accuracy = 0.8393\n",
      "XGBoost Classifier: Accuracy = 0.7216\n"
     ]
    },
    {
     "data": {
      "text/plain": [
       "['model.pkl']"
      ]
     },
     "execution_count": 206,
     "metadata": {},
     "output_type": "execute_result"
    }
   ],
   "source": [
    "from sklearn.metrics import accuracy_score\n",
    "\n",
    "\n",
    "models = {\n",
    "    \"Logistic Regression\": best_lr_model,\n",
    "    \"Random Forest Classifier\": best_rfc_model,\n",
    "    \"XGBoost Classifier\": best_xgb_model\n",
    "}\n",
    "\n",
    "best_model_name = None\n",
    "best_model = None\n",
    "best_accuracy = 0\n",
    "\n",
    "for name, model in models.items():\n",
    "    y_pred = model.predict(x_test)\n",
    "    acc = accuracy_score(y_test, y_pred)\n",
    "    print(f\"{name}: Accuracy = {acc:.4f}\")\n",
    "    if acc > best_accuracy:\n",
    "        best_model_name = name\n",
    "        best_model = model\n",
    "        best_accuracy = acc\n",
    "\n",
    "joblib.dump(best_model, \"model.pkl\")\n"
   ]
  },
  {
   "cell_type": "markdown",
   "id": "37e51f2e-fea8-4911-a986-1ad09d224a03",
   "metadata": {},
   "source": [
    "model evaluation and output"
   ]
  },
  {
   "cell_type": "code",
   "execution_count": 207,
   "id": "800a0f20-574f-4b6b-9d5b-fb6fe2e130df",
   "metadata": {},
   "outputs": [
    {
     "name": "stdout",
     "output_type": "stream",
     "text": [
      "              precision    recall  f1-score   support\n",
      "\n",
      "           0       0.85      0.82      0.84      1139\n",
      "           1       0.82      0.86      0.84      1138\n",
      "\n",
      "    accuracy                           0.84      2277\n",
      "   macro avg       0.84      0.84      0.84      2277\n",
      "weighted avg       0.84      0.84      0.84      2277\n",
      "\n"
     ]
    },
    {
     "data": {
      "image/png": "[encoded data removed]",
      "text/plain": [
       "<Figure size 640x480 with 2 Axes>"
      ]
     },
     "metadata": {},
     "output_type": "display_data"
    },
    {
     "data": {
      "image/png": "[encoded data removed]",
      "text/plain": [
       "<Figure size 640x480 with 1 Axes>"
      ]
     },
     "metadata": {},
     "output_type": "display_data"
    },
    {
     "data": {
      "image/png": "[encoded data removed]",
      "text/plain": [
       "<Figure size 640x480 with 1 Axes>"
      ]
     },
     "metadata": {},
     "output_type": "display_data"
    },
    {
     "name": "stdout",
     "output_type": "stream",
     "text": [
      "✅ Output saved to final_churn_predictions.csv\n"
     ]
    }
   ],
   "source": [
    "from sklearn.metrics import classification_report, confusion_matrix, roc_auc_score, roc_curve\n",
    "import seaborn as sns\n",
    "import matplotlib.pyplot as plt\n",
    "\n",
    "y_pred = best_model.predict(x_test).ravel()\n",
    "y_proba = best_model.predict_proba(x_test)[:, 1].ravel()\n",
    "\n",
    "print(classification_report(y_test, y_pred))\n",
    "\n",
    "cm = confusion_matrix(y_test, y_pred)\n",
    "sns.heatmap(cm, annot=True, fmt='d', cmap='Blues')\n",
    "plt.title(\"Confusion Matrix\")\n",
    "plt.xlabel(\"Predicted\")\n",
    "plt.ylabel(\"Actual\")\n",
    "plt.show()\n",
    "\n",
    "auc = roc_auc_score(y_test, y_proba)\n",
    "fpr, tpr, _ = roc_curve(y_test, y_proba)\n",
    "plt.plot(fpr, tpr, label=f'AUC = {auc:.2f}')\n",
    "plt.plot([0, 1], [0, 1], 'k--')\n",
    "plt.xlabel(\"FPR\")\n",
    "plt.ylabel(\"TPR\")\n",
    "plt.title(\"ROC Curve\")\n",
    "plt.legend()\n",
    "plt.show()\n",
    "\n",
    "if hasattr(best_model, 'feature_importances_'):\n",
    "    importance = best_model.feature_importances_\n",
    "    features = x_upsampled.columns\n",
    "    sns.barplot(x=importance, y=features)\n",
    "    plt.title(\"Feature Importance\")\n",
    "    plt.xlabel(\"Importance\")\n",
    "    plt.ylabel(\"Features\")\n",
    "    plt.tight_layout()\n",
    "    plt.show()\n",
    "\n",
    "if not isinstance(x_test, pd.DataFrame):\n",
    "    x_test = pd.DataFrame(x_test, columns=x_upsampled.columns)\n",
    "\n",
    "output_df = x_test.copy()\n",
    "output_df[\"Churn_Prediction\"] = y_pred\n",
    "output_df[\"Churn_Probability\"] = y_proba\n",
    "\n",
    "output_df.to_csv(\"final_churn_predictions.csv\", index=False)\n",
    "print(\"✅ Output saved to final_churn_predictions.csv\")\n"
   ]
  },
  {
   "cell_type": "code",
   "execution_count": null,
   "id": "0cedfe31-38f9-4a40-be30-f79f26e7e2c1",
   "metadata": {},
   "outputs": [],
   "source": []
  }
 ],
 "metadata": {
  "kernelspec": {
   "display_name": "Python 3",
   "language": "python",
   "name": "python3"
  },
  "language_info": {
   "codemirror_mode": {
    "name": "ipython",
    "version": 3
   },
   "file_extension": ".py",
   "mimetype": "text/x-python",
   "name": "python",
   "nbconvert_exporter": "python",
   "pygments_lexer": "ipython3",
   "version": "3.12.8"
  }
 },
 "nbformat": 4,
 "nbformat_minor": 5
}
