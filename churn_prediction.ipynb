{
 "cells": [
  {
   "cell_type": "code",
<<<<<<< HEAD
   "execution_count": 124,
=======
   "execution_count": 82,
>>>>>>> 8ffc9adf3a0ca1b244a36f105c8e7102ac62e7ee
   "id": "9e4e2369-cb05-41a7-8131-55eb6d613de3",
   "metadata": {},
   "outputs": [],
   "source": [
    "import pandas as pd\n",
    "import numpy as np\n",
    "import matplotlib.pyplot as plt"
   ]
  },
  {
   "cell_type": "markdown",
   "id": "a45efc9d-6d8d-436e-9c6b-716edfe30e75",
   "metadata": {},
   "source": [
    "importing dataset"
   ]
  },
  {
   "cell_type": "code",
<<<<<<< HEAD
   "execution_count": 125,
=======
   "execution_count": 83,
>>>>>>> 8ffc9adf3a0ca1b244a36f105c8e7102ac62e7ee
   "id": "fbc5bc24-3b50-4fc6-9232-a365b69769dd",
   "metadata": {},
   "outputs": [],
   "source": [
    "df = pd.read_csv(\"churn_prediction_data.csv\")"
   ]
  },
  {
   "cell_type": "code",
<<<<<<< HEAD
   "execution_count": 126,
=======
   "execution_count": 84,
>>>>>>> 8ffc9adf3a0ca1b244a36f105c8e7102ac62e7ee
   "id": "7d590bce-364c-4ed4-b8b8-780be0be5342",
   "metadata": {},
   "outputs": [
    {
     "data": {
      "text/html": [
       "<div>\n",
       "<style scoped>\n",
       "    .dataframe tbody tr th:only-of-type {\n",
       "        vertical-align: middle;\n",
       "    }\n",
       "\n",
       "    .dataframe tbody tr th {\n",
       "        vertical-align: top;\n",
       "    }\n",
       "\n",
       "    .dataframe thead th {\n",
       "        text-align: right;\n",
       "    }\n",
       "</style>\n",
       "<table border=\"1\" class=\"dataframe\">\n",
       "  <thead>\n",
       "    <tr style=\"text-align: right;\">\n",
       "      <th></th>\n",
       "      <th>CustomerID</th>\n",
       "      <th>Gender</th>\n",
       "      <th>Age</th>\n",
       "      <th>Tenure</th>\n",
       "      <th>Balance</th>\n",
       "      <th>NumOfProducts</th>\n",
       "      <th>HasCrCard</th>\n",
       "      <th>IsActiveMember</th>\n",
       "      <th>EstimatedSalary</th>\n",
       "      <th>Exited</th>\n",
       "    </tr>\n",
       "  </thead>\n",
       "  <tbody>\n",
       "    <tr>\n",
       "      <th>0</th>\n",
       "      <td>1001</td>\n",
       "      <td>Female</td>\n",
       "      <td>82</td>\n",
       "      <td>0</td>\n",
       "      <td>234628.86</td>\n",
       "      <td>1</td>\n",
       "      <td>1</td>\n",
       "      <td>0</td>\n",
       "      <td>182668.03</td>\n",
       "      <td>1</td>\n",
       "    </tr>\n",
       "    <tr>\n",
       "      <th>1</th>\n",
       "      <td>1002</td>\n",
       "      <td>Male</td>\n",
       "      <td>38</td>\n",
       "      <td>6</td>\n",
       "      <td>110710.15</td>\n",
       "      <td>1</td>\n",
       "      <td>0</td>\n",
       "      <td>1</td>\n",
       "      <td>63794.06</td>\n",
       "      <td>0</td>\n",
       "    </tr>\n",
       "    <tr>\n",
       "      <th>2</th>\n",
       "      <td>1003</td>\n",
       "      <td>Female</td>\n",
       "      <td>37</td>\n",
       "      <td>3</td>\n",
       "      <td>118320.04</td>\n",
       "      <td>3</td>\n",
       "      <td>1</td>\n",
       "      <td>1</td>\n",
       "      <td>140566.99</td>\n",
       "      <td>1</td>\n",
       "    </tr>\n",
       "    <tr>\n",
       "      <th>3</th>\n",
       "      <td>1004</td>\n",
       "      <td>Male</td>\n",
       "      <td>35</td>\n",
       "      <td>1</td>\n",
       "      <td>162201.05</td>\n",
       "      <td>1</td>\n",
       "      <td>1</td>\n",
       "      <td>0</td>\n",
       "      <td>170302.01</td>\n",
       "      <td>0</td>\n",
       "    </tr>\n",
       "    <tr>\n",
       "      <th>4</th>\n",
       "      <td>1005</td>\n",
       "      <td>Female</td>\n",
       "      <td>27</td>\n",
       "      <td>2</td>\n",
       "      <td>145675.66</td>\n",
       "      <td>3</td>\n",
       "      <td>0</td>\n",
       "      <td>0</td>\n",
       "      <td>31760.78</td>\n",
       "      <td>1</td>\n",
       "    </tr>\n",
       "  </tbody>\n",
       "</table>\n",
       "</div>"
      ],
      "text/plain": [
       "   CustomerID  Gender  Age  Tenure    Balance  NumOfProducts  HasCrCard  \\\n",
       "0        1001  Female   82       0  234628.86              1          1   \n",
       "1        1002    Male   38       6  110710.15              1          0   \n",
       "2        1003  Female   37       3  118320.04              3          1   \n",
       "3        1004    Male   35       1  162201.05              1          1   \n",
       "4        1005  Female   27       2  145675.66              3          0   \n",
       "\n",
       "   IsActiveMember  EstimatedSalary  Exited  \n",
       "0               0        182668.03       1  \n",
       "1               1         63794.06       0  \n",
       "2               1        140566.99       1  \n",
       "3               0        170302.01       0  \n",
       "4               0         31760.78       1  "
      ]
     },
<<<<<<< HEAD
     "execution_count": 126,
=======
     "execution_count": 84,
>>>>>>> 8ffc9adf3a0ca1b244a36f105c8e7102ac62e7ee
     "metadata": {},
     "output_type": "execute_result"
    }
   ],
   "source": [
    "df.head()"
   ]
  },
  {
   "cell_type": "code",
<<<<<<< HEAD
   "execution_count": 127,
=======
   "execution_count": 85,
>>>>>>> 8ffc9adf3a0ca1b244a36f105c8e7102ac62e7ee
   "id": "57878ad5-8024-4c4b-83dd-288f433422b6",
   "metadata": {},
   "outputs": [
    {
     "data": {
      "text/html": [
       "<div>\n",
       "<style scoped>\n",
       "    .dataframe tbody tr th:only-of-type {\n",
       "        vertical-align: middle;\n",
       "    }\n",
       "\n",
       "    .dataframe tbody tr th {\n",
       "        vertical-align: top;\n",
       "    }\n",
       "\n",
       "    .dataframe thead th {\n",
       "        text-align: right;\n",
       "    }\n",
       "</style>\n",
       "<table border=\"1\" class=\"dataframe\">\n",
       "  <thead>\n",
       "    <tr style=\"text-align: right;\">\n",
       "      <th></th>\n",
       "      <th>CustomerID</th>\n",
       "      <th>Gender</th>\n",
       "      <th>Age</th>\n",
       "      <th>Tenure</th>\n",
       "      <th>Balance</th>\n",
       "      <th>NumOfProducts</th>\n",
       "      <th>HasCrCard</th>\n",
       "      <th>IsActiveMember</th>\n",
       "      <th>EstimatedSalary</th>\n",
       "      <th>Exited</th>\n",
       "    </tr>\n",
       "  </thead>\n",
       "  <tbody>\n",
       "    <tr>\n",
       "      <th>9998</th>\n",
       "      <td>10999</td>\n",
       "      <td>Male</td>\n",
       "      <td>86</td>\n",
       "      <td>0</td>\n",
       "      <td>172424.16</td>\n",
       "      <td>1</td>\n",
       "      <td>1</td>\n",
       "      <td>1</td>\n",
       "      <td>56740.90</td>\n",
       "      <td>0</td>\n",
       "    </tr>\n",
       "    <tr>\n",
       "      <th>9999</th>\n",
       "      <td>11000</td>\n",
       "      <td>Male</td>\n",
       "      <td>19</td>\n",
       "      <td>6</td>\n",
       "      <td>239091.45</td>\n",
       "      <td>2</td>\n",
       "      <td>0</td>\n",
       "      <td>1</td>\n",
       "      <td>127214.92</td>\n",
       "      <td>0</td>\n",
       "    </tr>\n",
       "    <tr>\n",
       "      <th>10000</th>\n",
       "      <td>11001</td>\n",
       "      <td>Male</td>\n",
       "      <td>37</td>\n",
       "      <td>10</td>\n",
       "      <td>223190.97</td>\n",
       "      <td>1</td>\n",
       "      <td>0</td>\n",
       "      <td>0</td>\n",
       "      <td>195452.90</td>\n",
       "      <td>1</td>\n",
       "    </tr>\n",
       "    <tr>\n",
       "      <th>10001</th>\n",
       "      <td>11002</td>\n",
       "      <td>Male</td>\n",
       "      <td>80</td>\n",
       "      <td>2</td>\n",
       "      <td>86758.50</td>\n",
       "      <td>1</td>\n",
       "      <td>1</td>\n",
       "      <td>1</td>\n",
       "      <td>127509.14</td>\n",
       "      <td>0</td>\n",
       "    </tr>\n",
       "    <tr>\n",
       "      <th>10002</th>\n",
       "      <td>11003</td>\n",
       "      <td>Male</td>\n",
       "      <td>26</td>\n",
       "      <td>9</td>\n",
       "      <td>100033.09</td>\n",
       "      <td>2</td>\n",
       "      <td>1</td>\n",
       "      <td>0</td>\n",
       "      <td>102576.95</td>\n",
       "      <td>0</td>\n",
       "    </tr>\n",
       "  </tbody>\n",
       "</table>\n",
       "</div>"
      ],
      "text/plain": [
       "       CustomerID Gender  Age  Tenure    Balance  NumOfProducts  HasCrCard  \\\n",
       "9998        10999   Male   86       0  172424.16              1          1   \n",
       "9999        11000   Male   19       6  239091.45              2          0   \n",
       "10000       11001   Male   37      10  223190.97              1          0   \n",
       "10001       11002   Male   80       2   86758.50              1          1   \n",
       "10002       11003   Male   26       9  100033.09              2          1   \n",
       "\n",
       "       IsActiveMember  EstimatedSalary  Exited  \n",
       "9998                1         56740.90       0  \n",
       "9999                1        127214.92       0  \n",
       "10000               0        195452.90       1  \n",
       "10001               1        127509.14       0  \n",
       "10002               0        102576.95       0  "
      ]
     },
<<<<<<< HEAD
     "execution_count": 127,
=======
     "execution_count": 85,
>>>>>>> 8ffc9adf3a0ca1b244a36f105c8e7102ac62e7ee
     "metadata": {},
     "output_type": "execute_result"
    }
   ],
   "source": [
    "df.tail()\n"
   ]
  },
  {
   "cell_type": "markdown",
   "id": "8d56ced3-fd54-4de6-addd-8e03e454a640",
   "metadata": {},
   "source": [
    "checking for nan values in dataset"
   ]
  },
  {
   "cell_type": "code",
<<<<<<< HEAD
   "execution_count": 128,
=======
   "execution_count": 86,
>>>>>>> 8ffc9adf3a0ca1b244a36f105c8e7102ac62e7ee
   "id": "6b81951e-1ddd-4add-bc4a-066641a0e989",
   "metadata": {},
   "outputs": [
    {
     "name": "stdout",
     "output_type": "stream",
     "text": [
      "<class 'pandas.core.frame.DataFrame'>\n",
      "RangeIndex: 10003 entries, 0 to 10002\n",
      "Data columns (total 10 columns):\n",
      " #   Column           Non-Null Count  Dtype  \n",
      "---  ------           --------------  -----  \n",
      " 0   CustomerID       10003 non-null  int64  \n",
      " 1   Gender           10003 non-null  object \n",
      " 2   Age              10003 non-null  int64  \n",
      " 3   Tenure           10003 non-null  int64  \n",
      " 4   Balance          10003 non-null  float64\n",
      " 5   NumOfProducts    10003 non-null  int64  \n",
      " 6   HasCrCard        10003 non-null  int64  \n",
      " 7   IsActiveMember   10003 non-null  int64  \n",
      " 8   EstimatedSalary  10003 non-null  float64\n",
      " 9   Exited           10003 non-null  int64  \n",
      "dtypes: float64(2), int64(7), object(1)\n",
      "memory usage: 781.6+ KB\n"
     ]
    }
   ],
   "source": [
    "df.info()"
   ]
  },
  {
   "cell_type": "code",
<<<<<<< HEAD
   "execution_count": 129,
=======
   "execution_count": 87,
>>>>>>> 8ffc9adf3a0ca1b244a36f105c8e7102ac62e7ee
   "id": "e097f85d-fe01-4cf5-ae7e-3d28ec5165cd",
   "metadata": {},
   "outputs": [
    {
     "data": {
      "text/plain": [
       "0"
      ]
     },
<<<<<<< HEAD
     "execution_count": 129,
=======
     "execution_count": 87,
>>>>>>> 8ffc9adf3a0ca1b244a36f105c8e7102ac62e7ee
     "metadata": {},
     "output_type": "execute_result"
    }
   ],
   "source": [
    "df.isna().sum().sum()"
   ]
  },
  {
   "cell_type": "markdown",
   "id": "285529ff-b72b-4ca8-8565-0f287fbdced9",
   "metadata": {},
   "source": [
    "therefore there are no nan values. "
   ]
  },
  {
   "cell_type": "markdown",
   "id": "7713b0fa-9c42-4aae-be2d-dd1fa1413d49",
   "metadata": {},
   "source": [
    "checking for duplicates"
   ]
  },
  {
   "cell_type": "code",
<<<<<<< HEAD
   "execution_count": 130,
=======
   "execution_count": 88,
>>>>>>> 8ffc9adf3a0ca1b244a36f105c8e7102ac62e7ee
   "id": "4ba42546-4f3b-440d-a051-6214183d14f5",
   "metadata": {},
   "outputs": [
    {
     "data": {
      "text/plain": [
       "0"
      ]
     },
<<<<<<< HEAD
     "execution_count": 130,
=======
     "execution_count": 88,
>>>>>>> 8ffc9adf3a0ca1b244a36f105c8e7102ac62e7ee
     "metadata": {},
     "output_type": "execute_result"
    }
   ],
   "source": [
    "df.duplicated().sum()"
   ]
  },
  {
   "cell_type": "markdown",
   "id": "1eddb431-1b1a-4092-9398-7af7a2fadee7",
   "metadata": {},
   "source": [
    "therefor no duplicate values"
   ]
  },
  {
   "cell_type": "code",
<<<<<<< HEAD
   "execution_count": 131,
=======
   "execution_count": 89,
>>>>>>> 8ffc9adf3a0ca1b244a36f105c8e7102ac62e7ee
   "id": "5c714ded-4e3c-4295-9a44-a8a49e2054cd",
   "metadata": {},
   "outputs": [
    {
     "data": {
      "text/html": [
       "<div>\n",
       "<style scoped>\n",
       "    .dataframe tbody tr th:only-of-type {\n",
       "        vertical-align: middle;\n",
       "    }\n",
       "\n",
       "    .dataframe tbody tr th {\n",
       "        vertical-align: top;\n",
       "    }\n",
       "\n",
       "    .dataframe thead th {\n",
       "        text-align: right;\n",
       "    }\n",
       "</style>\n",
       "<table border=\"1\" class=\"dataframe\">\n",
       "  <thead>\n",
       "    <tr style=\"text-align: right;\">\n",
       "      <th></th>\n",
       "      <th>CustomerID</th>\n",
       "      <th>Age</th>\n",
       "      <th>Tenure</th>\n",
       "      <th>Balance</th>\n",
       "      <th>NumOfProducts</th>\n",
       "      <th>HasCrCard</th>\n",
       "      <th>IsActiveMember</th>\n",
       "      <th>EstimatedSalary</th>\n",
       "      <th>Exited</th>\n",
       "    </tr>\n",
       "  </thead>\n",
       "  <tbody>\n",
       "    <tr>\n",
       "      <th>count</th>\n",
       "      <td>10003.000000</td>\n",
       "      <td>10003.000000</td>\n",
       "      <td>10003.000000</td>\n",
       "      <td>10003.000000</td>\n",
       "      <td>10003.000000</td>\n",
       "      <td>10003.000000</td>\n",
       "      <td>10003.000000</td>\n",
       "      <td>10003.000000</td>\n",
       "      <td>10003.000000</td>\n",
       "    </tr>\n",
       "    <tr>\n",
       "      <th>mean</th>\n",
       "      <td>6002.000000</td>\n",
       "      <td>55.279516</td>\n",
       "      <td>4.979206</td>\n",
       "      <td>126179.822146</td>\n",
       "      <td>1.524243</td>\n",
       "      <td>0.703489</td>\n",
       "      <td>0.512746</td>\n",
       "      <td>100204.943104</td>\n",
       "      <td>0.199140</td>\n",
       "    </tr>\n",
       "    <tr>\n",
       "      <th>std</th>\n",
       "      <td>2887.761705</td>\n",
       "      <td>21.364053</td>\n",
       "      <td>3.149061</td>\n",
       "      <td>72510.885806</td>\n",
       "      <td>0.579327</td>\n",
       "      <td>0.456742</td>\n",
       "      <td>0.499862</td>\n",
       "      <td>57735.603578</td>\n",
       "      <td>0.399374</td>\n",
       "    </tr>\n",
       "    <tr>\n",
       "      <th>min</th>\n",
       "      <td>1001.000000</td>\n",
       "      <td>18.000000</td>\n",
       "      <td>0.000000</td>\n",
       "      <td>17.270000</td>\n",
       "      <td>1.000000</td>\n",
       "      <td>0.000000</td>\n",
       "      <td>0.000000</td>\n",
       "      <td>13.860000</td>\n",
       "      <td>0.000000</td>\n",
       "    </tr>\n",
       "    <tr>\n",
       "      <th>25%</th>\n",
       "      <td>3501.500000</td>\n",
       "      <td>37.000000</td>\n",
       "      <td>2.000000</td>\n",
       "      <td>63220.155000</td>\n",
       "      <td>1.000000</td>\n",
       "      <td>0.000000</td>\n",
       "      <td>0.000000</td>\n",
       "      <td>50556.520000</td>\n",
       "      <td>0.000000</td>\n",
       "    </tr>\n",
       "    <tr>\n",
       "      <th>50%</th>\n",
       "      <td>6002.000000</td>\n",
       "      <td>55.000000</td>\n",
       "      <td>5.000000</td>\n",
       "      <td>127373.080000</td>\n",
       "      <td>1.000000</td>\n",
       "      <td>1.000000</td>\n",
       "      <td>1.000000</td>\n",
       "      <td>100025.890000</td>\n",
       "      <td>0.000000</td>\n",
       "    </tr>\n",
       "    <tr>\n",
       "      <th>75%</th>\n",
       "      <td>8502.500000</td>\n",
       "      <td>74.000000</td>\n",
       "      <td>8.000000</td>\n",
       "      <td>188898.180000</td>\n",
       "      <td>2.000000</td>\n",
       "      <td>1.000000</td>\n",
       "      <td>1.000000</td>\n",
       "      <td>150603.340000</td>\n",
       "      <td>0.000000</td>\n",
       "    </tr>\n",
       "    <tr>\n",
       "      <th>max</th>\n",
       "      <td>11003.000000</td>\n",
       "      <td>92.000000</td>\n",
       "      <td>10.000000</td>\n",
       "      <td>250859.050000</td>\n",
       "      <td>4.000000</td>\n",
       "      <td>1.000000</td>\n",
       "      <td>1.000000</td>\n",
       "      <td>199971.860000</td>\n",
       "      <td>1.000000</td>\n",
       "    </tr>\n",
       "  </tbody>\n",
       "</table>\n",
       "</div>"
      ],
      "text/plain": [
       "         CustomerID           Age        Tenure        Balance  NumOfProducts  \\\n",
       "count  10003.000000  10003.000000  10003.000000   10003.000000   10003.000000   \n",
       "mean    6002.000000     55.279516      4.979206  126179.822146       1.524243   \n",
       "std     2887.761705     21.364053      3.149061   72510.885806       0.579327   \n",
       "min     1001.000000     18.000000      0.000000      17.270000       1.000000   \n",
       "25%     3501.500000     37.000000      2.000000   63220.155000       1.000000   \n",
       "50%     6002.000000     55.000000      5.000000  127373.080000       1.000000   \n",
       "75%     8502.500000     74.000000      8.000000  188898.180000       2.000000   \n",
       "max    11003.000000     92.000000     10.000000  250859.050000       4.000000   \n",
       "\n",
       "          HasCrCard  IsActiveMember  EstimatedSalary        Exited  \n",
       "count  10003.000000    10003.000000     10003.000000  10003.000000  \n",
       "mean       0.703489        0.512746    100204.943104      0.199140  \n",
       "std        0.456742        0.499862     57735.603578      0.399374  \n",
       "min        0.000000        0.000000        13.860000      0.000000  \n",
       "25%        0.000000        0.000000     50556.520000      0.000000  \n",
       "50%        1.000000        1.000000    100025.890000      0.000000  \n",
       "75%        1.000000        1.000000    150603.340000      0.000000  \n",
       "max        1.000000        1.000000    199971.860000      1.000000  "
      ]
     },
<<<<<<< HEAD
     "execution_count": 131,
=======
     "execution_count": 89,
>>>>>>> 8ffc9adf3a0ca1b244a36f105c8e7102ac62e7ee
     "metadata": {},
     "output_type": "execute_result"
    }
   ],
   "source": [
    "df.describe()"
   ]
  },
  {
   "cell_type": "markdown",
   "id": "89504c8e-53a4-4cfa-91e0-01d9538c98fa",
   "metadata": {},
   "source": [
    "obtaining corerelation"
   ]
  },
  {
   "cell_type": "code",
<<<<<<< HEAD
   "execution_count": 132,
=======
   "execution_count": 90,
>>>>>>> 8ffc9adf3a0ca1b244a36f105c8e7102ac62e7ee
   "id": "53544475-89ba-4370-b2b2-7d96b0ed99ec",
   "metadata": {},
   "outputs": [
    {
     "data": {
      "text/html": [
       "<div>\n",
       "<style scoped>\n",
       "    .dataframe tbody tr th:only-of-type {\n",
       "        vertical-align: middle;\n",
       "    }\n",
       "\n",
       "    .dataframe tbody tr th {\n",
       "        vertical-align: top;\n",
       "    }\n",
       "\n",
       "    .dataframe thead th {\n",
       "        text-align: right;\n",
       "    }\n",
       "</style>\n",
       "<table border=\"1\" class=\"dataframe\">\n",
       "  <thead>\n",
       "    <tr style=\"text-align: right;\">\n",
       "      <th></th>\n",
       "      <th>CustomerID</th>\n",
       "      <th>Age</th>\n",
       "      <th>Tenure</th>\n",
       "      <th>Balance</th>\n",
       "      <th>NumOfProducts</th>\n",
       "      <th>HasCrCard</th>\n",
       "      <th>IsActiveMember</th>\n",
       "      <th>EstimatedSalary</th>\n",
       "      <th>Exited</th>\n",
       "    </tr>\n",
       "  </thead>\n",
       "  <tbody>\n",
       "    <tr>\n",
       "      <th>CustomerID</th>\n",
       "      <td>1.000000</td>\n",
       "      <td>0.013117</td>\n",
       "      <td>-0.006034</td>\n",
       "      <td>-0.006908</td>\n",
       "      <td>-0.006623</td>\n",
       "      <td>0.000774</td>\n",
       "      <td>-0.002614</td>\n",
       "      <td>-0.012853</td>\n",
       "      <td>0.006325</td>\n",
       "    </tr>\n",
       "    <tr>\n",
       "      <th>Age</th>\n",
       "      <td>0.013117</td>\n",
       "      <td>1.000000</td>\n",
       "      <td>-0.012452</td>\n",
       "      <td>-0.009230</td>\n",
       "      <td>0.014655</td>\n",
       "      <td>0.008986</td>\n",
       "      <td>-0.013010</td>\n",
       "      <td>0.000797</td>\n",
       "      <td>-0.003372</td>\n",
       "    </tr>\n",
       "    <tr>\n",
       "      <th>Tenure</th>\n",
       "      <td>-0.006034</td>\n",
       "      <td>-0.012452</td>\n",
       "      <td>1.000000</td>\n",
       "      <td>-0.009116</td>\n",
       "      <td>0.006579</td>\n",
       "      <td>0.000857</td>\n",
       "      <td>-0.002690</td>\n",
       "      <td>-0.009372</td>\n",
       "      <td>0.005678</td>\n",
       "    </tr>\n",
       "    <tr>\n",
       "      <th>Balance</th>\n",
       "      <td>-0.006908</td>\n",
       "      <td>-0.009230</td>\n",
       "      <td>-0.009116</td>\n",
       "      <td>1.000000</td>\n",
       "      <td>0.006297</td>\n",
       "      <td>0.010304</td>\n",
       "      <td>0.008598</td>\n",
       "      <td>0.008078</td>\n",
       "      <td>-0.005127</td>\n",
       "    </tr>\n",
       "    <tr>\n",
       "      <th>NumOfProducts</th>\n",
       "      <td>-0.006623</td>\n",
       "      <td>0.014655</td>\n",
       "      <td>0.006579</td>\n",
       "      <td>0.006297</td>\n",
       "      <td>1.000000</td>\n",
       "      <td>-0.021574</td>\n",
       "      <td>-0.018589</td>\n",
       "      <td>0.005696</td>\n",
       "      <td>0.005924</td>\n",
       "    </tr>\n",
       "    <tr>\n",
       "      <th>HasCrCard</th>\n",
       "      <td>0.000774</td>\n",
       "      <td>0.008986</td>\n",
       "      <td>0.000857</td>\n",
       "      <td>0.010304</td>\n",
       "      <td>-0.021574</td>\n",
       "      <td>1.000000</td>\n",
       "      <td>-0.011471</td>\n",
       "      <td>0.007993</td>\n",
       "      <td>0.000356</td>\n",
       "    </tr>\n",
       "    <tr>\n",
       "      <th>IsActiveMember</th>\n",
       "      <td>-0.002614</td>\n",
       "      <td>-0.013010</td>\n",
       "      <td>-0.002690</td>\n",
       "      <td>0.008598</td>\n",
       "      <td>-0.018589</td>\n",
       "      <td>-0.011471</td>\n",
       "      <td>1.000000</td>\n",
       "      <td>-0.008928</td>\n",
       "      <td>-0.000196</td>\n",
       "    </tr>\n",
       "    <tr>\n",
       "      <th>EstimatedSalary</th>\n",
       "      <td>-0.012853</td>\n",
       "      <td>0.000797</td>\n",
       "      <td>-0.009372</td>\n",
       "      <td>0.008078</td>\n",
       "      <td>0.005696</td>\n",
       "      <td>0.007993</td>\n",
       "      <td>-0.008928</td>\n",
       "      <td>1.000000</td>\n",
       "      <td>0.019806</td>\n",
       "    </tr>\n",
       "    <tr>\n",
       "      <th>Exited</th>\n",
       "      <td>0.006325</td>\n",
       "      <td>-0.003372</td>\n",
       "      <td>0.005678</td>\n",
       "      <td>-0.005127</td>\n",
       "      <td>0.005924</td>\n",
       "      <td>0.000356</td>\n",
       "      <td>-0.000196</td>\n",
       "      <td>0.019806</td>\n",
       "      <td>1.000000</td>\n",
       "    </tr>\n",
       "  </tbody>\n",
       "</table>\n",
       "</div>"
      ],
      "text/plain": [
       "                 CustomerID       Age    Tenure   Balance  NumOfProducts  \\\n",
       "CustomerID         1.000000  0.013117 -0.006034 -0.006908      -0.006623   \n",
       "Age                0.013117  1.000000 -0.012452 -0.009230       0.014655   \n",
       "Tenure            -0.006034 -0.012452  1.000000 -0.009116       0.006579   \n",
       "Balance           -0.006908 -0.009230 -0.009116  1.000000       0.006297   \n",
       "NumOfProducts     -0.006623  0.014655  0.006579  0.006297       1.000000   \n",
       "HasCrCard          0.000774  0.008986  0.000857  0.010304      -0.021574   \n",
       "IsActiveMember    -0.002614 -0.013010 -0.002690  0.008598      -0.018589   \n",
       "EstimatedSalary   -0.012853  0.000797 -0.009372  0.008078       0.005696   \n",
       "Exited             0.006325 -0.003372  0.005678 -0.005127       0.005924   \n",
       "\n",
       "                 HasCrCard  IsActiveMember  EstimatedSalary    Exited  \n",
       "CustomerID        0.000774       -0.002614        -0.012853  0.006325  \n",
       "Age               0.008986       -0.013010         0.000797 -0.003372  \n",
       "Tenure            0.000857       -0.002690        -0.009372  0.005678  \n",
       "Balance           0.010304        0.008598         0.008078 -0.005127  \n",
       "NumOfProducts    -0.021574       -0.018589         0.005696  0.005924  \n",
       "HasCrCard         1.000000       -0.011471         0.007993  0.000356  \n",
       "IsActiveMember   -0.011471        1.000000        -0.008928 -0.000196  \n",
       "EstimatedSalary   0.007993       -0.008928         1.000000  0.019806  \n",
       "Exited            0.000356       -0.000196         0.019806  1.000000  "
      ]
     },
<<<<<<< HEAD
     "execution_count": 132,
=======
     "execution_count": 90,
>>>>>>> 8ffc9adf3a0ca1b244a36f105c8e7102ac62e7ee
     "metadata": {},
     "output_type": "execute_result"
    }
   ],
   "source": [
    "numeric_colums_data=df.select_dtypes(include=[\"number\"])\n",
    "numeric_colums_data.corr()"
   ]
  },
  {
   "cell_type": "code",
<<<<<<< HEAD
   "execution_count": 133,
=======
   "execution_count": 91,
>>>>>>> 8ffc9adf3a0ca1b244a36f105c8e7102ac62e7ee
   "id": "02600b03-146c-48e1-998e-002fce34d2d5",
   "metadata": {},
   "outputs": [
    {
     "data": {
      "text/html": [
       "<div>\n",
       "<style scoped>\n",
       "    .dataframe tbody tr th:only-of-type {\n",
       "        vertical-align: middle;\n",
       "    }\n",
       "\n",
       "    .dataframe tbody tr th {\n",
       "        vertical-align: top;\n",
       "    }\n",
       "\n",
       "    .dataframe thead th {\n",
       "        text-align: right;\n",
       "    }\n",
       "</style>\n",
       "<table border=\"1\" class=\"dataframe\">\n",
       "  <thead>\n",
       "    <tr style=\"text-align: right;\">\n",
       "      <th></th>\n",
       "      <th>CustomerID</th>\n",
       "      <th>Gender</th>\n",
       "      <th>Age</th>\n",
       "      <th>Tenure</th>\n",
       "      <th>Balance</th>\n",
       "      <th>NumOfProducts</th>\n",
       "      <th>HasCrCard</th>\n",
       "      <th>IsActiveMember</th>\n",
       "      <th>EstimatedSalary</th>\n",
       "      <th>Exited</th>\n",
       "    </tr>\n",
       "  </thead>\n",
       "  <tbody>\n",
       "    <tr>\n",
       "      <th>0</th>\n",
       "      <td>1001</td>\n",
       "      <td>Female</td>\n",
       "      <td>82</td>\n",
       "      <td>0</td>\n",
       "      <td>234628.86</td>\n",
       "      <td>1</td>\n",
       "      <td>1</td>\n",
       "      <td>0</td>\n",
       "      <td>182668.03</td>\n",
       "      <td>1</td>\n",
       "    </tr>\n",
       "    <tr>\n",
       "      <th>1</th>\n",
       "      <td>1002</td>\n",
       "      <td>Male</td>\n",
       "      <td>38</td>\n",
       "      <td>6</td>\n",
       "      <td>110710.15</td>\n",
       "      <td>1</td>\n",
       "      <td>0</td>\n",
       "      <td>1</td>\n",
       "      <td>63794.06</td>\n",
       "      <td>0</td>\n",
       "    </tr>\n",
       "    <tr>\n",
       "      <th>2</th>\n",
       "      <td>1003</td>\n",
       "      <td>Female</td>\n",
       "      <td>37</td>\n",
       "      <td>3</td>\n",
       "      <td>118320.04</td>\n",
       "      <td>3</td>\n",
       "      <td>1</td>\n",
       "      <td>1</td>\n",
       "      <td>140566.99</td>\n",
       "      <td>1</td>\n",
       "    </tr>\n",
       "    <tr>\n",
       "      <th>3</th>\n",
       "      <td>1004</td>\n",
       "      <td>Male</td>\n",
       "      <td>35</td>\n",
       "      <td>1</td>\n",
       "      <td>162201.05</td>\n",
       "      <td>1</td>\n",
       "      <td>1</td>\n",
       "      <td>0</td>\n",
       "      <td>170302.01</td>\n",
       "      <td>0</td>\n",
       "    </tr>\n",
       "    <tr>\n",
       "      <th>4</th>\n",
       "      <td>1005</td>\n",
       "      <td>Female</td>\n",
       "      <td>27</td>\n",
       "      <td>2</td>\n",
       "      <td>145675.66</td>\n",
       "      <td>3</td>\n",
       "      <td>0</td>\n",
       "      <td>0</td>\n",
       "      <td>31760.78</td>\n",
       "      <td>1</td>\n",
       "    </tr>\n",
       "    <tr>\n",
       "      <th>...</th>\n",
       "      <td>...</td>\n",
       "      <td>...</td>\n",
       "      <td>...</td>\n",
       "      <td>...</td>\n",
       "      <td>...</td>\n",
       "      <td>...</td>\n",
       "      <td>...</td>\n",
       "      <td>...</td>\n",
       "      <td>...</td>\n",
       "      <td>...</td>\n",
       "    </tr>\n",
       "    <tr>\n",
       "      <th>9998</th>\n",
       "      <td>10999</td>\n",
       "      <td>Male</td>\n",
       "      <td>86</td>\n",
       "      <td>0</td>\n",
       "      <td>172424.16</td>\n",
       "      <td>1</td>\n",
       "      <td>1</td>\n",
       "      <td>1</td>\n",
       "      <td>56740.90</td>\n",
       "      <td>0</td>\n",
       "    </tr>\n",
       "    <tr>\n",
       "      <th>9999</th>\n",
       "      <td>11000</td>\n",
       "      <td>Male</td>\n",
       "      <td>19</td>\n",
       "      <td>6</td>\n",
       "      <td>239091.45</td>\n",
       "      <td>2</td>\n",
       "      <td>0</td>\n",
       "      <td>1</td>\n",
       "      <td>127214.92</td>\n",
       "      <td>0</td>\n",
       "    </tr>\n",
       "    <tr>\n",
       "      <th>10000</th>\n",
       "      <td>11001</td>\n",
       "      <td>Male</td>\n",
       "      <td>37</td>\n",
       "      <td>10</td>\n",
       "      <td>223190.97</td>\n",
       "      <td>1</td>\n",
       "      <td>0</td>\n",
       "      <td>0</td>\n",
       "      <td>195452.90</td>\n",
       "      <td>1</td>\n",
       "    </tr>\n",
       "    <tr>\n",
       "      <th>10001</th>\n",
       "      <td>11002</td>\n",
       "      <td>Male</td>\n",
       "      <td>80</td>\n",
       "      <td>2</td>\n",
       "      <td>86758.50</td>\n",
       "      <td>1</td>\n",
       "      <td>1</td>\n",
       "      <td>1</td>\n",
       "      <td>127509.14</td>\n",
       "      <td>0</td>\n",
       "    </tr>\n",
       "    <tr>\n",
       "      <th>10002</th>\n",
       "      <td>11003</td>\n",
       "      <td>Male</td>\n",
       "      <td>26</td>\n",
       "      <td>9</td>\n",
       "      <td>100033.09</td>\n",
       "      <td>2</td>\n",
       "      <td>1</td>\n",
       "      <td>0</td>\n",
       "      <td>102576.95</td>\n",
       "      <td>0</td>\n",
       "    </tr>\n",
       "  </tbody>\n",
       "</table>\n",
       "<p>10003 rows × 10 columns</p>\n",
       "</div>"
      ],
      "text/plain": [
       "       CustomerID  Gender  Age  Tenure    Balance  NumOfProducts  HasCrCard  \\\n",
       "0            1001  Female   82       0  234628.86              1          1   \n",
       "1            1002    Male   38       6  110710.15              1          0   \n",
       "2            1003  Female   37       3  118320.04              3          1   \n",
       "3            1004    Male   35       1  162201.05              1          1   \n",
       "4            1005  Female   27       2  145675.66              3          0   \n",
       "...           ...     ...  ...     ...        ...            ...        ...   \n",
       "9998        10999    Male   86       0  172424.16              1          1   \n",
       "9999        11000    Male   19       6  239091.45              2          0   \n",
       "10000       11001    Male   37      10  223190.97              1          0   \n",
       "10001       11002    Male   80       2   86758.50              1          1   \n",
       "10002       11003    Male   26       9  100033.09              2          1   \n",
       "\n",
       "       IsActiveMember  EstimatedSalary  Exited  \n",
       "0                   0        182668.03       1  \n",
       "1                   1         63794.06       0  \n",
       "2                   1        140566.99       1  \n",
       "3                   0        170302.01       0  \n",
       "4                   0         31760.78       1  \n",
       "...               ...              ...     ...  \n",
       "9998                1         56740.90       0  \n",
       "9999                1        127214.92       0  \n",
       "10000               0        195452.90       1  \n",
       "10001               1        127509.14       0  \n",
       "10002               0        102576.95       0  \n",
       "\n",
       "[10003 rows x 10 columns]"
      ]
     },
<<<<<<< HEAD
     "execution_count": 133,
=======
     "execution_count": 91,
>>>>>>> 8ffc9adf3a0ca1b244a36f105c8e7102ac62e7ee
     "metadata": {},
     "output_type": "execute_result"
    }
   ],
   "source": [
    "df"
   ]
  },
  {
   "cell_type": "code",
<<<<<<< HEAD
   "execution_count": 134,
=======
   "execution_count": 92,
>>>>>>> 8ffc9adf3a0ca1b244a36f105c8e7102ac62e7ee
   "id": "8a001719-04cd-43cc-ac92-f40014b2d3bc",
   "metadata": {},
   "outputs": [
    {
     "data": {
      "text/plain": [
       "Exited\n",
       "0    8011\n",
       "1    1992\n",
       "Name: count, dtype: int64"
      ]
     },
<<<<<<< HEAD
     "execution_count": 134,
=======
     "execution_count": 92,
>>>>>>> 8ffc9adf3a0ca1b244a36f105c8e7102ac62e7ee
     "metadata": {},
     "output_type": "execute_result"
    }
   ],
   "source": [
    "df[\"Exited\"].value_counts()"
   ]
  },
  {
   "cell_type": "markdown",
   "id": "b69f452e-7b35-4abc-942d-07a925647724",
   "metadata": {},
   "source": [
    "upscaling"
   ]
  },
  {
   "cell_type": "code",
<<<<<<< HEAD
   "execution_count": 135,
=======
   "execution_count": 93,
>>>>>>> 8ffc9adf3a0ca1b244a36f105c8e7102ac62e7ee
   "id": "7629aa6c-9d65-422d-8563-cc4fab8c7699",
   "metadata": {},
   "outputs": [
    {
     "name": "stdout",
     "output_type": "stream",
     "text": [
      "Exited\n",
      "0    8011\n",
      "1    8011\n",
      "Name: count, dtype: int64\n"
     ]
    }
   ],
   "source": [
    "from sklearn.utils import resample\n",
    "df_majority = df[df.Exited==0]\n",
    "df_minority = df[df.Exited==1]\n",
    "df_minority_upsampled = resample(df_minority,\n",
    "                                 replace=True,    \n",
    "                                 n_samples=len(df_majority),    \n",
    "                                 random_state=123) \n",
    "df_upsampled = pd.concat([df_majority, df_minority_upsampled])\n",
    "print(df_upsampled.Exited.value_counts())"
   ]
  },
  {
   "cell_type": "code",
<<<<<<< HEAD
   "execution_count": 136,
=======
   "execution_count": 94,
>>>>>>> 8ffc9adf3a0ca1b244a36f105c8e7102ac62e7ee
   "id": "390c8e79-57b7-490d-bf6f-29ded3c5d819",
   "metadata": {},
   "outputs": [
    {
     "data": {
      "image/png": "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",
      "text/plain": [
       "<Figure size 500x500 with 1 Axes>"
      ]
     },
     "metadata": {},
     "output_type": "display_data"
    }
   ],
   "source": [
    "churn_counts_upsampled = df_upsampled['Exited'].value_counts()\n",
    "plt.figure(figsize=(5, 5))\n",
    "plt.pie(churn_counts_upsampled, labels=churn_counts_upsampled.index, autopct='%1.1f%%', startangle=90)\n",
    "plt.title('Churn Count (0/1) for Upsampled Data')\n",
    "plt.show()"
   ]
  },
  {
   "cell_type": "code",
<<<<<<< HEAD
   "execution_count": 137,
=======
   "execution_count": 95,
>>>>>>> 8ffc9adf3a0ca1b244a36f105c8e7102ac62e7ee
   "id": "002c48e5-d90e-475e-9902-40a34dc93137",
   "metadata": {},
   "outputs": [
    {
     "data": {
      "text/html": [
       "<div>\n",
       "<style scoped>\n",
       "    .dataframe tbody tr th:only-of-type {\n",
       "        vertical-align: middle;\n",
       "    }\n",
       "\n",
       "    .dataframe tbody tr th {\n",
       "        vertical-align: top;\n",
       "    }\n",
       "\n",
       "    .dataframe thead th {\n",
       "        text-align: right;\n",
       "    }\n",
       "</style>\n",
       "<table border=\"1\" class=\"dataframe\">\n",
       "  <thead>\n",
       "    <tr style=\"text-align: right;\">\n",
       "      <th></th>\n",
       "      <th>CustomerID</th>\n",
       "      <th>Gender</th>\n",
       "      <th>Age</th>\n",
       "      <th>Tenure</th>\n",
       "      <th>Balance</th>\n",
       "      <th>NumOfProducts</th>\n",
       "      <th>HasCrCard</th>\n",
       "      <th>IsActiveMember</th>\n",
       "      <th>EstimatedSalary</th>\n",
       "      <th>Exited</th>\n",
       "    </tr>\n",
       "  </thead>\n",
       "  <tbody>\n",
       "    <tr>\n",
       "      <th>0</th>\n",
       "      <td>1001</td>\n",
       "      <td>Female</td>\n",
       "      <td>82</td>\n",
       "      <td>0</td>\n",
       "      <td>234628.86</td>\n",
       "      <td>1</td>\n",
       "      <td>1</td>\n",
       "      <td>0</td>\n",
       "      <td>182668.03</td>\n",
       "      <td>1</td>\n",
       "    </tr>\n",
       "    <tr>\n",
       "      <th>1</th>\n",
       "      <td>1002</td>\n",
       "      <td>Male</td>\n",
       "      <td>38</td>\n",
       "      <td>6</td>\n",
       "      <td>110710.15</td>\n",
       "      <td>1</td>\n",
       "      <td>0</td>\n",
       "      <td>1</td>\n",
       "      <td>63794.06</td>\n",
       "      <td>0</td>\n",
       "    </tr>\n",
       "    <tr>\n",
       "      <th>2</th>\n",
       "      <td>1003</td>\n",
       "      <td>Female</td>\n",
       "      <td>37</td>\n",
       "      <td>3</td>\n",
       "      <td>118320.04</td>\n",
       "      <td>3</td>\n",
       "      <td>1</td>\n",
       "      <td>1</td>\n",
       "      <td>140566.99</td>\n",
       "      <td>1</td>\n",
       "    </tr>\n",
       "    <tr>\n",
       "      <th>3</th>\n",
       "      <td>1004</td>\n",
       "      <td>Male</td>\n",
       "      <td>35</td>\n",
       "      <td>1</td>\n",
       "      <td>162201.05</td>\n",
       "      <td>1</td>\n",
       "      <td>1</td>\n",
       "      <td>0</td>\n",
       "      <td>170302.01</td>\n",
       "      <td>0</td>\n",
       "    </tr>\n",
       "    <tr>\n",
       "      <th>4</th>\n",
       "      <td>1005</td>\n",
       "      <td>Female</td>\n",
       "      <td>27</td>\n",
       "      <td>2</td>\n",
       "      <td>145675.66</td>\n",
       "      <td>3</td>\n",
       "      <td>0</td>\n",
       "      <td>0</td>\n",
       "      <td>31760.78</td>\n",
       "      <td>1</td>\n",
       "    </tr>\n",
       "  </tbody>\n",
       "</table>\n",
       "</div>"
      ],
      "text/plain": [
       "   CustomerID  Gender  Age  Tenure    Balance  NumOfProducts  HasCrCard  \\\n",
       "0        1001  Female   82       0  234628.86              1          1   \n",
       "1        1002    Male   38       6  110710.15              1          0   \n",
       "2        1003  Female   37       3  118320.04              3          1   \n",
       "3        1004    Male   35       1  162201.05              1          1   \n",
       "4        1005  Female   27       2  145675.66              3          0   \n",
       "\n",
       "   IsActiveMember  EstimatedSalary  Exited  \n",
       "0               0        182668.03       1  \n",
       "1               1         63794.06       0  \n",
       "2               1        140566.99       1  \n",
       "3               0        170302.01       0  \n",
       "4               0         31760.78       1  "
      ]
     },
<<<<<<< HEAD
     "execution_count": 137,
=======
     "execution_count": 95,
>>>>>>> 8ffc9adf3a0ca1b244a36f105c8e7102ac62e7ee
     "metadata": {},
     "output_type": "execute_result"
    }
   ],
   "source": [
    "df.head()"
   ]
  },
  {
   "cell_type": "code",
<<<<<<< HEAD
   "execution_count": 138,
=======
   "execution_count": 96,
>>>>>>> 8ffc9adf3a0ca1b244a36f105c8e7102ac62e7ee
   "id": "f20aaa33-076e-49ae-b08c-70712c741536",
   "metadata": {},
   "outputs": [
    {
     "data": {
      "text/plain": [
       "Exited\n",
       "0    126365.211178\n",
       "1    124517.554268\n",
       "Name: Balance, dtype: float64"
      ]
     },
<<<<<<< HEAD
     "execution_count": 138,
=======
     "execution_count": 96,
>>>>>>> 8ffc9adf3a0ca1b244a36f105c8e7102ac62e7ee
     "metadata": {},
     "output_type": "execute_result"
    }
   ],
   "source": [
    "df_upsampled.groupby('Exited')['Balance'].mean()"
   ]
  },
  {
   "cell_type": "code",
<<<<<<< HEAD
   "execution_count": 139,
=======
   "execution_count": 97,
>>>>>>> 8ffc9adf3a0ca1b244a36f105c8e7102ac62e7ee
   "id": "23ac0b6a-945e-44d2-8cf9-719084de0792",
   "metadata": {},
   "outputs": [
    {
     "data": {
      "text/plain": [
       "Exited  Gender\n",
       "0       Female    125370.416634\n",
       "        Male      127198.237528\n",
       "1       Female    126021.843367\n",
       "        Male      123308.296875\n",
       "Name: Balance, dtype: float64"
      ]
     },
<<<<<<< HEAD
     "execution_count": 139,
=======
     "execution_count": 97,
>>>>>>> 8ffc9adf3a0ca1b244a36f105c8e7102ac62e7ee
     "metadata": {},
     "output_type": "execute_result"
    }
   ],
   "source": [
    "df_upsampled.groupby(['Exited','Gender'])['Balance'].mean()"
   ]
  },
  {
   "cell_type": "code",
<<<<<<< HEAD
   "execution_count": 140,
=======
   "execution_count": 98,
>>>>>>> 8ffc9adf3a0ca1b244a36f105c8e7102ac62e7ee
   "id": "6782dbbb-23c7-45ba-8626-a47f263c7959",
   "metadata": {},
   "outputs": [
    {
     "data": {
      "text/plain": [
       "Exited\n",
       "0    4.970291\n",
       "1    4.960929\n",
       "Name: Tenure, dtype: float64"
      ]
     },
<<<<<<< HEAD
     "execution_count": 140,
=======
     "execution_count": 98,
>>>>>>> 8ffc9adf3a0ca1b244a36f105c8e7102ac62e7ee
     "metadata": {},
     "output_type": "execute_result"
    }
   ],
   "source": [
    "df_upsampled.groupby('Exited')['Tenure'].mean()"
   ]
  },
  {
   "cell_type": "code",
<<<<<<< HEAD
   "execution_count": 141,
=======
   "execution_count": 99,
>>>>>>> 8ffc9adf3a0ca1b244a36f105c8e7102ac62e7ee
   "id": "f526adcb-7a40-4c74-b6c2-63f42ad8466d",
   "metadata": {},
   "outputs": [
    {
     "data": {
      "text/plain": [
       "Exited\n",
       "0    55.315441\n",
       "1    54.749719\n",
       "Name: Age, dtype: float64"
      ]
     },
<<<<<<< HEAD
     "execution_count": 141,
=======
     "execution_count": 99,
>>>>>>> 8ffc9adf3a0ca1b244a36f105c8e7102ac62e7ee
     "metadata": {},
     "output_type": "execute_result"
    }
   ],
   "source": [
    "df_upsampled.groupby('Exited')['Age'].mean()"
   ]
  },
  {
   "cell_type": "code",
<<<<<<< HEAD
   "execution_count": 142,
=======
   "execution_count": 100,
>>>>>>> 8ffc9adf3a0ca1b244a36f105c8e7102ac62e7ee
   "id": "7fefa611-1baf-4635-840b-a439365bf2a2",
   "metadata": {},
   "outputs": [
    {
     "name": "stdout",
     "output_type": "stream",
     "text": [
      "Exited\n",
      "0     99634.739392\n",
      "1    102929.532564\n",
      "Name: EstimatedSalary, dtype: float64\n"
     ]
    }
   ],
   "source": [
    "print(df_upsampled.groupby('Exited')['EstimatedSalary'].mean())"
   ]
  },
  {
   "cell_type": "code",
<<<<<<< HEAD
   "execution_count": 143,
=======
   "execution_count": 101,
>>>>>>> 8ffc9adf3a0ca1b244a36f105c8e7102ac62e7ee
   "id": "5c21f07f-3906-4c71-a01e-4d64f72402c3",
   "metadata": {},
   "outputs": [
    {
     "data": {
      "image/png": "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",
      "text/plain": [
       "<Figure size 640x480 with 1 Axes>"
      ]
     },
     "metadata": {},
     "output_type": "display_data"
    }
   ],
   "source": [
    "df_upsampled.groupby(\"Exited\")[\"EstimatedSalary\"].mean().plot(kind=\"bar\")\n",
    "plt.title(\"EstimatedSalary\")\n",
    "plt.xlabel(\"Exited\")\n",
    "plt.ylabel(\"Average Estimated Salary\")\n",
    "plt.show()"
   ]
  },
  {
   "cell_type": "markdown",
   "id": "51b35afb-9c82-49a5-8cf0-3b88660aa6b3",
   "metadata": {},
   "source": [
    "feature engineering"
   ]
  },
  {
   "cell_type": "code",
<<<<<<< HEAD
   "execution_count": 144,
=======
   "execution_count": 102,
>>>>>>> 8ffc9adf3a0ca1b244a36f105c8e7102ac62e7ee
   "id": "a4585c80-ddeb-4c74-abe6-8f68251348a1",
   "metadata": {},
   "outputs": [
    {
     "data": {
      "text/plain": [
       "Index(['CustomerID', 'Gender', 'Age', 'Tenure', 'Balance', 'NumOfProducts',\n",
       "       'HasCrCard', 'IsActiveMember', 'EstimatedSalary', 'Exited'],\n",
       "      dtype='object')"
      ]
     },
<<<<<<< HEAD
     "execution_count": 144,
=======
     "execution_count": 102,
>>>>>>> 8ffc9adf3a0ca1b244a36f105c8e7102ac62e7ee
     "metadata": {},
     "output_type": "execute_result"
    }
   ],
   "source": [
    "df.columns"
   ]
  },
  {
   "cell_type": "code",
<<<<<<< HEAD
   "execution_count": 145,
=======
   "execution_count": 103,
>>>>>>> 8ffc9adf3a0ca1b244a36f105c8e7102ac62e7ee
   "id": "89398c0c-143d-49b9-973e-8e0c6bdbf0e0",
   "metadata": {},
   "outputs": [],
   "source": [
    "y_upsampled = df_upsampled[[\"Exited\"]]\n",
    "x_upsampled = df_upsampled[[\"CustomerID\",\"Age\",\"Gender\",\"Tenure\",\"Balance\",\"NumOfProducts\",\"HasCrCard\",\"IsActiveMember\",\"EstimatedSalary\"]].copy()"
   ]
  },
  {
   "cell_type": "code",
<<<<<<< HEAD
   "execution_count": 146,
=======
   "execution_count": 104,
>>>>>>> 8ffc9adf3a0ca1b244a36f105c8e7102ac62e7ee
   "id": "23cc0e56-55e9-4eff-9147-e4c9dadb7a66",
   "metadata": {},
   "outputs": [
    {
     "data": {
      "text/html": [
       "<div>\n",
       "<style scoped>\n",
       "    .dataframe tbody tr th:only-of-type {\n",
       "        vertical-align: middle;\n",
       "    }\n",
       "\n",
       "    .dataframe tbody tr th {\n",
       "        vertical-align: top;\n",
       "    }\n",
       "\n",
       "    .dataframe thead th {\n",
       "        text-align: right;\n",
       "    }\n",
       "</style>\n",
       "<table border=\"1\" class=\"dataframe\">\n",
       "  <thead>\n",
       "    <tr style=\"text-align: right;\">\n",
       "      <th></th>\n",
       "      <th>CustomerID</th>\n",
       "      <th>Age</th>\n",
       "      <th>Gender</th>\n",
       "      <th>Tenure</th>\n",
       "      <th>Balance</th>\n",
       "      <th>NumOfProducts</th>\n",
       "      <th>HasCrCard</th>\n",
       "      <th>IsActiveMember</th>\n",
       "      <th>EstimatedSalary</th>\n",
       "    </tr>\n",
       "  </thead>\n",
       "  <tbody>\n",
       "    <tr>\n",
       "      <th>1</th>\n",
       "      <td>1002</td>\n",
       "      <td>38</td>\n",
       "      <td>Male</td>\n",
       "      <td>6</td>\n",
       "      <td>110710.15</td>\n",
       "      <td>1</td>\n",
       "      <td>0</td>\n",
       "      <td>1</td>\n",
       "      <td>63794.06</td>\n",
       "    </tr>\n",
       "    <tr>\n",
       "      <th>3</th>\n",
       "      <td>1004</td>\n",
       "      <td>35</td>\n",
       "      <td>Male</td>\n",
       "      <td>1</td>\n",
       "      <td>162201.05</td>\n",
       "      <td>1</td>\n",
       "      <td>1</td>\n",
       "      <td>0</td>\n",
       "      <td>170302.01</td>\n",
       "    </tr>\n",
       "    <tr>\n",
       "      <th>6</th>\n",
       "      <td>1007</td>\n",
       "      <td>55</td>\n",
       "      <td>Male</td>\n",
       "      <td>9</td>\n",
       "      <td>182544.43</td>\n",
       "      <td>2</td>\n",
       "      <td>0</td>\n",
       "      <td>0</td>\n",
       "      <td>6280.89</td>\n",
       "    </tr>\n",
       "    <tr>\n",
       "      <th>7</th>\n",
       "      <td>1008</td>\n",
       "      <td>77</td>\n",
       "      <td>Male</td>\n",
       "      <td>10</td>\n",
       "      <td>175770.88</td>\n",
       "      <td>2</td>\n",
       "      <td>1</td>\n",
       "      <td>0</td>\n",
       "      <td>30439.43</td>\n",
       "    </tr>\n",
       "    <tr>\n",
       "      <th>9</th>\n",
       "      <td>1010</td>\n",
       "      <td>87</td>\n",
       "      <td>Female</td>\n",
       "      <td>4</td>\n",
       "      <td>229827.56</td>\n",
       "      <td>1</td>\n",
       "      <td>1</td>\n",
       "      <td>0</td>\n",
       "      <td>27797.69</td>\n",
       "    </tr>\n",
       "    <tr>\n",
       "      <th>...</th>\n",
       "      <td>...</td>\n",
       "      <td>...</td>\n",
       "      <td>...</td>\n",
       "      <td>...</td>\n",
       "      <td>...</td>\n",
       "      <td>...</td>\n",
       "      <td>...</td>\n",
       "      <td>...</td>\n",
       "      <td>...</td>\n",
       "    </tr>\n",
       "    <tr>\n",
       "      <th>3546</th>\n",
       "      <td>4547</td>\n",
       "      <td>49</td>\n",
       "      <td>Male</td>\n",
       "      <td>2</td>\n",
       "      <td>40422.39</td>\n",
       "      <td>1</td>\n",
       "      <td>1</td>\n",
       "      <td>1</td>\n",
       "      <td>47416.60</td>\n",
       "    </tr>\n",
       "    <tr>\n",
       "      <th>6609</th>\n",
       "      <td>7610</td>\n",
       "      <td>51</td>\n",
       "      <td>Male</td>\n",
       "      <td>8</td>\n",
       "      <td>43542.02</td>\n",
       "      <td>1</td>\n",
       "      <td>0</td>\n",
       "      <td>1</td>\n",
       "      <td>136727.50</td>\n",
       "    </tr>\n",
       "    <tr>\n",
       "      <th>15</th>\n",
       "      <td>1016</td>\n",
       "      <td>63</td>\n",
       "      <td>Female</td>\n",
       "      <td>6</td>\n",
       "      <td>208685.60</td>\n",
       "      <td>2</td>\n",
       "      <td>1</td>\n",
       "      <td>0</td>\n",
       "      <td>176224.36</td>\n",
       "    </tr>\n",
       "    <tr>\n",
       "      <th>634</th>\n",
       "      <td>1635</td>\n",
       "      <td>67</td>\n",
       "      <td>Male</td>\n",
       "      <td>1</td>\n",
       "      <td>164886.81</td>\n",
       "      <td>2</td>\n",
       "      <td>1</td>\n",
       "      <td>0</td>\n",
       "      <td>137451.63</td>\n",
       "    </tr>\n",
       "    <tr>\n",
       "      <th>5784</th>\n",
       "      <td>6785</td>\n",
       "      <td>32</td>\n",
       "      <td>Male</td>\n",
       "      <td>8</td>\n",
       "      <td>14450.57</td>\n",
       "      <td>1</td>\n",
       "      <td>0</td>\n",
       "      <td>0</td>\n",
       "      <td>121138.68</td>\n",
       "    </tr>\n",
       "  </tbody>\n",
       "</table>\n",
       "<p>16022 rows × 9 columns</p>\n",
       "</div>"
      ],
      "text/plain": [
       "      CustomerID  Age  Gender  Tenure    Balance  NumOfProducts  HasCrCard  \\\n",
       "1           1002   38    Male       6  110710.15              1          0   \n",
       "3           1004   35    Male       1  162201.05              1          1   \n",
       "6           1007   55    Male       9  182544.43              2          0   \n",
       "7           1008   77    Male      10  175770.88              2          1   \n",
       "9           1010   87  Female       4  229827.56              1          1   \n",
       "...          ...  ...     ...     ...        ...            ...        ...   \n",
       "3546        4547   49    Male       2   40422.39              1          1   \n",
       "6609        7610   51    Male       8   43542.02              1          0   \n",
       "15          1016   63  Female       6  208685.60              2          1   \n",
       "634         1635   67    Male       1  164886.81              2          1   \n",
       "5784        6785   32    Male       8   14450.57              1          0   \n",
       "\n",
       "      IsActiveMember  EstimatedSalary  \n",
       "1                  1         63794.06  \n",
       "3                  0        170302.01  \n",
       "6                  0          6280.89  \n",
       "7                  0         30439.43  \n",
       "9                  0         27797.69  \n",
       "...              ...              ...  \n",
       "3546               1         47416.60  \n",
       "6609               1        136727.50  \n",
       "15                 0        176224.36  \n",
       "634                0        137451.63  \n",
       "5784               0        121138.68  \n",
       "\n",
       "[16022 rows x 9 columns]"
      ]
     },
<<<<<<< HEAD
     "execution_count": 146,
=======
     "execution_count": 104,
>>>>>>> 8ffc9adf3a0ca1b244a36f105c8e7102ac62e7ee
     "metadata": {},
     "output_type": "execute_result"
    }
   ],
   "source": [
    "x_upsampled"
   ]
  },
  {
   "cell_type": "code",
<<<<<<< HEAD
   "execution_count": 147,
=======
   "execution_count": 105,
>>>>>>> 8ffc9adf3a0ca1b244a36f105c8e7102ac62e7ee
   "id": "f20b76c4-ea06-41e6-ac7a-cfa83b384782",
   "metadata": {},
   "outputs": [
    {
     "data": {
      "text/html": [
       "<div>\n",
       "<style scoped>\n",
       "    .dataframe tbody tr th:only-of-type {\n",
       "        vertical-align: middle;\n",
       "    }\n",
       "\n",
       "    .dataframe tbody tr th {\n",
       "        vertical-align: top;\n",
       "    }\n",
       "\n",
       "    .dataframe thead th {\n",
       "        text-align: right;\n",
       "    }\n",
       "</style>\n",
       "<table border=\"1\" class=\"dataframe\">\n",
       "  <thead>\n",
       "    <tr style=\"text-align: right;\">\n",
       "      <th></th>\n",
       "      <th>Exited</th>\n",
       "    </tr>\n",
       "  </thead>\n",
       "  <tbody>\n",
       "    <tr>\n",
       "      <th>1</th>\n",
       "      <td>0</td>\n",
       "    </tr>\n",
       "    <tr>\n",
       "      <th>3</th>\n",
       "      <td>0</td>\n",
       "    </tr>\n",
       "    <tr>\n",
       "      <th>6</th>\n",
       "      <td>0</td>\n",
       "    </tr>\n",
       "    <tr>\n",
       "      <th>7</th>\n",
       "      <td>0</td>\n",
       "    </tr>\n",
       "    <tr>\n",
       "      <th>9</th>\n",
       "      <td>0</td>\n",
       "    </tr>\n",
       "    <tr>\n",
       "      <th>...</th>\n",
       "      <td>...</td>\n",
       "    </tr>\n",
       "    <tr>\n",
       "      <th>3546</th>\n",
       "      <td>1</td>\n",
       "    </tr>\n",
       "    <tr>\n",
       "      <th>6609</th>\n",
       "      <td>1</td>\n",
       "    </tr>\n",
       "    <tr>\n",
       "      <th>15</th>\n",
       "      <td>1</td>\n",
       "    </tr>\n",
       "    <tr>\n",
       "      <th>634</th>\n",
       "      <td>1</td>\n",
       "    </tr>\n",
       "    <tr>\n",
       "      <th>5784</th>\n",
       "      <td>1</td>\n",
       "    </tr>\n",
       "  </tbody>\n",
       "</table>\n",
       "<p>16022 rows × 1 columns</p>\n",
       "</div>"
      ],
      "text/plain": [
       "      Exited\n",
       "1          0\n",
       "3          0\n",
       "6          0\n",
       "7          0\n",
       "9          0\n",
       "...      ...\n",
       "3546       1\n",
       "6609       1\n",
       "15         1\n",
       "634        1\n",
       "5784       1\n",
       "\n",
       "[16022 rows x 1 columns]"
      ]
     },
<<<<<<< HEAD
     "execution_count": 147,
=======
     "execution_count": 105,
>>>>>>> 8ffc9adf3a0ca1b244a36f105c8e7102ac62e7ee
     "metadata": {},
     "output_type": "execute_result"
    }
   ],
   "source": [
    "y_upsampled"
   ]
  },
  {
   "cell_type": "code",
<<<<<<< HEAD
   "execution_count": 148,
=======
   "execution_count": 106,
>>>>>>> 8ffc9adf3a0ca1b244a36f105c8e7102ac62e7ee
   "id": "3405a54e-f130-40f0-a224-e95c74f6b624",
   "metadata": {},
   "outputs": [
    {
     "data": {
      "text/html": [
       "<div>\n",
       "<style scoped>\n",
       "    .dataframe tbody tr th:only-of-type {\n",
       "        vertical-align: middle;\n",
       "    }\n",
       "\n",
       "    .dataframe tbody tr th {\n",
       "        vertical-align: top;\n",
       "    }\n",
       "\n",
       "    .dataframe thead th {\n",
       "        text-align: right;\n",
       "    }\n",
       "</style>\n",
       "<table border=\"1\" class=\"dataframe\">\n",
       "  <thead>\n",
       "    <tr style=\"text-align: right;\">\n",
       "      <th></th>\n",
       "      <th>CustomerID</th>\n",
       "      <th>Gender</th>\n",
       "      <th>Age</th>\n",
       "      <th>Tenure</th>\n",
       "      <th>Balance</th>\n",
       "      <th>NumOfProducts</th>\n",
       "      <th>HasCrCard</th>\n",
       "      <th>IsActiveMember</th>\n",
       "      <th>EstimatedSalary</th>\n",
       "      <th>Exited</th>\n",
       "    </tr>\n",
       "  </thead>\n",
       "  <tbody>\n",
       "    <tr>\n",
       "      <th>0</th>\n",
       "      <td>1001</td>\n",
       "      <td>Female</td>\n",
       "      <td>82</td>\n",
       "      <td>0</td>\n",
       "      <td>234628.86</td>\n",
       "      <td>1</td>\n",
       "      <td>1</td>\n",
       "      <td>0</td>\n",
       "      <td>182668.03</td>\n",
       "      <td>1</td>\n",
       "    </tr>\n",
       "    <tr>\n",
       "      <th>1</th>\n",
       "      <td>1002</td>\n",
       "      <td>Male</td>\n",
       "      <td>38</td>\n",
       "      <td>6</td>\n",
       "      <td>110710.15</td>\n",
       "      <td>1</td>\n",
       "      <td>0</td>\n",
       "      <td>1</td>\n",
       "      <td>63794.06</td>\n",
       "      <td>0</td>\n",
       "    </tr>\n",
       "    <tr>\n",
       "      <th>2</th>\n",
       "      <td>1003</td>\n",
       "      <td>Female</td>\n",
       "      <td>37</td>\n",
       "      <td>3</td>\n",
       "      <td>118320.04</td>\n",
       "      <td>3</td>\n",
       "      <td>1</td>\n",
       "      <td>1</td>\n",
       "      <td>140566.99</td>\n",
       "      <td>1</td>\n",
       "    </tr>\n",
       "    <tr>\n",
       "      <th>3</th>\n",
       "      <td>1004</td>\n",
       "      <td>Male</td>\n",
       "      <td>35</td>\n",
       "      <td>1</td>\n",
       "      <td>162201.05</td>\n",
       "      <td>1</td>\n",
       "      <td>1</td>\n",
       "      <td>0</td>\n",
       "      <td>170302.01</td>\n",
       "      <td>0</td>\n",
       "    </tr>\n",
       "    <tr>\n",
       "      <th>4</th>\n",
       "      <td>1005</td>\n",
       "      <td>Female</td>\n",
       "      <td>27</td>\n",
       "      <td>2</td>\n",
       "      <td>145675.66</td>\n",
       "      <td>3</td>\n",
       "      <td>0</td>\n",
       "      <td>0</td>\n",
       "      <td>31760.78</td>\n",
       "      <td>1</td>\n",
       "    </tr>\n",
       "  </tbody>\n",
       "</table>\n",
       "</div>"
      ],
      "text/plain": [
       "   CustomerID  Gender  Age  Tenure    Balance  NumOfProducts  HasCrCard  \\\n",
       "0        1001  Female   82       0  234628.86              1          1   \n",
       "1        1002    Male   38       6  110710.15              1          0   \n",
       "2        1003  Female   37       3  118320.04              3          1   \n",
       "3        1004    Male   35       1  162201.05              1          1   \n",
       "4        1005  Female   27       2  145675.66              3          0   \n",
       "\n",
       "   IsActiveMember  EstimatedSalary  Exited  \n",
       "0               0        182668.03       1  \n",
       "1               1         63794.06       0  \n",
       "2               1        140566.99       1  \n",
       "3               0        170302.01       0  \n",
       "4               0         31760.78       1  "
      ]
     },
<<<<<<< HEAD
     "execution_count": 148,
=======
     "execution_count": 106,
>>>>>>> 8ffc9adf3a0ca1b244a36f105c8e7102ac62e7ee
     "metadata": {},
     "output_type": "execute_result"
    }
   ],
   "source": [
    "df.head()"
   ]
  },
  {
   "cell_type": "code",
<<<<<<< HEAD
   "execution_count": 149,
=======
   "execution_count": 107,
>>>>>>> 8ffc9adf3a0ca1b244a36f105c8e7102ac62e7ee
   "id": "684889eb-4512-4c91-90ba-1dd982c5c5b6",
   "metadata": {},
   "outputs": [],
   "source": [
    "x_upsampled[\"Gender\"] = x_upsampled[\"Gender\"].map({\"Female\": 1, \"Male\": 0})"
   ]
  },
  {
   "cell_type": "code",
<<<<<<< HEAD
   "execution_count": 150,
=======
   "execution_count": 108,
>>>>>>> 8ffc9adf3a0ca1b244a36f105c8e7102ac62e7ee
   "id": "7b61f01e-90df-4c80-98cc-57ee3f25fe5c",
   "metadata": {},
   "outputs": [
    {
     "data": {
      "text/html": [
       "<div>\n",
       "<style scoped>\n",
       "    .dataframe tbody tr th:only-of-type {\n",
       "        vertical-align: middle;\n",
       "    }\n",
       "\n",
       "    .dataframe tbody tr th {\n",
       "        vertical-align: top;\n",
       "    }\n",
       "\n",
       "    .dataframe thead th {\n",
       "        text-align: right;\n",
       "    }\n",
       "</style>\n",
       "<table border=\"1\" class=\"dataframe\">\n",
       "  <thead>\n",
       "    <tr style=\"text-align: right;\">\n",
       "      <th></th>\n",
       "      <th>Exited</th>\n",
       "    </tr>\n",
       "  </thead>\n",
       "  <tbody>\n",
       "    <tr>\n",
       "      <th>1</th>\n",
       "      <td>0</td>\n",
       "    </tr>\n",
       "    <tr>\n",
       "      <th>3</th>\n",
       "      <td>0</td>\n",
       "    </tr>\n",
       "    <tr>\n",
       "      <th>6</th>\n",
       "      <td>0</td>\n",
       "    </tr>\n",
       "    <tr>\n",
       "      <th>7</th>\n",
       "      <td>0</td>\n",
       "    </tr>\n",
       "    <tr>\n",
       "      <th>9</th>\n",
       "      <td>0</td>\n",
       "    </tr>\n",
       "    <tr>\n",
       "      <th>...</th>\n",
       "      <td>...</td>\n",
       "    </tr>\n",
       "    <tr>\n",
       "      <th>3546</th>\n",
       "      <td>1</td>\n",
       "    </tr>\n",
       "    <tr>\n",
       "      <th>6609</th>\n",
       "      <td>1</td>\n",
       "    </tr>\n",
       "    <tr>\n",
       "      <th>15</th>\n",
       "      <td>1</td>\n",
       "    </tr>\n",
       "    <tr>\n",
       "      <th>634</th>\n",
       "      <td>1</td>\n",
       "    </tr>\n",
       "    <tr>\n",
       "      <th>5784</th>\n",
       "      <td>1</td>\n",
       "    </tr>\n",
       "  </tbody>\n",
       "</table>\n",
       "<p>16022 rows × 1 columns</p>\n",
       "</div>"
      ],
      "text/plain": [
       "      Exited\n",
       "1          0\n",
       "3          0\n",
       "6          0\n",
       "7          0\n",
       "9          0\n",
       "...      ...\n",
       "3546       1\n",
       "6609       1\n",
       "15         1\n",
       "634        1\n",
       "5784       1\n",
       "\n",
       "[16022 rows x 1 columns]"
      ]
     },
<<<<<<< HEAD
     "execution_count": 150,
=======
     "execution_count": 108,
>>>>>>> 8ffc9adf3a0ca1b244a36f105c8e7102ac62e7ee
     "metadata": {},
     "output_type": "execute_result"
    }
   ],
   "source": [
    "y_upsampled"
   ]
  },
  {
   "cell_type": "code",
<<<<<<< HEAD
   "execution_count": 151,
=======
   "execution_count": 109,
>>>>>>> 8ffc9adf3a0ca1b244a36f105c8e7102ac62e7ee
   "id": "d951bf34-1eea-4d5b-bb85-1cec66a9e2a2",
   "metadata": {},
   "outputs": [
    {
     "data": {
      "text/plain": [
       "array([0, 1], dtype=int64)"
      ]
     },
<<<<<<< HEAD
     "execution_count": 151,
=======
     "execution_count": 109,
>>>>>>> 8ffc9adf3a0ca1b244a36f105c8e7102ac62e7ee
     "metadata": {},
     "output_type": "execute_result"
    }
   ],
   "source": [
    "x_upsampled[\"Gender\"].unique()"
   ]
  },
  {
   "cell_type": "code",
<<<<<<< HEAD
   "execution_count": 152,
=======
   "execution_count": 110,
>>>>>>> 8ffc9adf3a0ca1b244a36f105c8e7102ac62e7ee
   "id": "8f1a621b-edf2-4d6d-a58d-7b200872b115",
   "metadata": {},
   "outputs": [
    {
     "data": {
      "text/html": [
       "<div>\n",
       "<style scoped>\n",
       "    .dataframe tbody tr th:only-of-type {\n",
       "        vertical-align: middle;\n",
       "    }\n",
       "\n",
       "    .dataframe tbody tr th {\n",
       "        vertical-align: top;\n",
       "    }\n",
       "\n",
       "    .dataframe thead th {\n",
       "        text-align: right;\n",
       "    }\n",
       "</style>\n",
       "<table border=\"1\" class=\"dataframe\">\n",
       "  <thead>\n",
       "    <tr style=\"text-align: right;\">\n",
       "      <th></th>\n",
       "      <th>CustomerID</th>\n",
       "      <th>Age</th>\n",
       "      <th>Gender</th>\n",
       "      <th>Tenure</th>\n",
       "      <th>Balance</th>\n",
       "      <th>NumOfProducts</th>\n",
       "      <th>HasCrCard</th>\n",
       "      <th>IsActiveMember</th>\n",
       "      <th>EstimatedSalary</th>\n",
       "    </tr>\n",
       "  </thead>\n",
       "  <tbody>\n",
       "    <tr>\n",
       "      <th>1</th>\n",
       "      <td>1002</td>\n",
       "      <td>38</td>\n",
       "      <td>0</td>\n",
       "      <td>6</td>\n",
       "      <td>110710.15</td>\n",
       "      <td>1</td>\n",
       "      <td>0</td>\n",
       "      <td>1</td>\n",
       "      <td>63794.06</td>\n",
       "    </tr>\n",
       "    <tr>\n",
       "      <th>3</th>\n",
       "      <td>1004</td>\n",
       "      <td>35</td>\n",
       "      <td>0</td>\n",
       "      <td>1</td>\n",
       "      <td>162201.05</td>\n",
       "      <td>1</td>\n",
       "      <td>1</td>\n",
       "      <td>0</td>\n",
       "      <td>170302.01</td>\n",
       "    </tr>\n",
       "    <tr>\n",
       "      <th>6</th>\n",
       "      <td>1007</td>\n",
       "      <td>55</td>\n",
       "      <td>0</td>\n",
       "      <td>9</td>\n",
       "      <td>182544.43</td>\n",
       "      <td>2</td>\n",
       "      <td>0</td>\n",
       "      <td>0</td>\n",
       "      <td>6280.89</td>\n",
       "    </tr>\n",
       "    <tr>\n",
       "      <th>7</th>\n",
       "      <td>1008</td>\n",
       "      <td>77</td>\n",
       "      <td>0</td>\n",
       "      <td>10</td>\n",
       "      <td>175770.88</td>\n",
       "      <td>2</td>\n",
       "      <td>1</td>\n",
       "      <td>0</td>\n",
       "      <td>30439.43</td>\n",
       "    </tr>\n",
       "    <tr>\n",
       "      <th>9</th>\n",
       "      <td>1010</td>\n",
       "      <td>87</td>\n",
       "      <td>1</td>\n",
       "      <td>4</td>\n",
       "      <td>229827.56</td>\n",
       "      <td>1</td>\n",
       "      <td>1</td>\n",
       "      <td>0</td>\n",
       "      <td>27797.69</td>\n",
       "    </tr>\n",
       "  </tbody>\n",
       "</table>\n",
       "</div>"
      ],
      "text/plain": [
       "   CustomerID  Age  Gender  Tenure    Balance  NumOfProducts  HasCrCard  \\\n",
       "1        1002   38       0       6  110710.15              1          0   \n",
       "3        1004   35       0       1  162201.05              1          1   \n",
       "6        1007   55       0       9  182544.43              2          0   \n",
       "7        1008   77       0      10  175770.88              2          1   \n",
       "9        1010   87       1       4  229827.56              1          1   \n",
       "\n",
       "   IsActiveMember  EstimatedSalary  \n",
       "1               1         63794.06  \n",
       "3               0        170302.01  \n",
       "6               0          6280.89  \n",
       "7               0         30439.43  \n",
       "9               0         27797.69  "
      ]
     },
<<<<<<< HEAD
     "execution_count": 152,
=======
     "execution_count": 110,
>>>>>>> 8ffc9adf3a0ca1b244a36f105c8e7102ac62e7ee
     "metadata": {},
     "output_type": "execute_result"
    }
   ],
   "source": [
    "x_upsampled.head()"
   ]
  },
  {
   "cell_type": "code",
<<<<<<< HEAD
   "execution_count": 153,
=======
   "execution_count": 111,
>>>>>>> 8ffc9adf3a0ca1b244a36f105c8e7102ac62e7ee
   "id": "d164c08b-90f5-4f85-9d99-fe68c6c133ba",
   "metadata": {},
   "outputs": [
    {
     "data": {
      "text/plain": [
       "numpy.int64"
      ]
     },
<<<<<<< HEAD
     "execution_count": 153,
=======
     "execution_count": 111,
>>>>>>> 8ffc9adf3a0ca1b244a36f105c8e7102ac62e7ee
     "metadata": {},
     "output_type": "execute_result"
    }
   ],
   "source": [
    "type(x_upsampled[\"Gender\"].iloc[0])\n"
   ]
  },
  {
   "cell_type": "code",
<<<<<<< HEAD
   "execution_count": 154,
=======
   "execution_count": 112,
>>>>>>> 8ffc9adf3a0ca1b244a36f105c8e7102ac62e7ee
   "id": "d43f1056-2737-48a2-8b0d-532346dd0722",
   "metadata": {},
   "outputs": [
    {
     "data": {
      "text/plain": [
       "numpy.int64"
      ]
     },
<<<<<<< HEAD
     "execution_count": 154,
=======
     "execution_count": 112,
>>>>>>> 8ffc9adf3a0ca1b244a36f105c8e7102ac62e7ee
     "metadata": {},
     "output_type": "execute_result"
    }
   ],
   "source": [
    "type(y_upsampled[\"Exited\"].iloc[0])"
   ]
  },
  {
   "cell_type": "markdown",
   "id": "ab7e24e8-bb12-44b3-b636-3d59e41aa211",
   "metadata": {},
   "source": [
    "train test split"
   ]
  },
  {
   "cell_type": "code",
<<<<<<< HEAD
   "execution_count": 155,
=======
   "execution_count": 113,
>>>>>>> 8ffc9adf3a0ca1b244a36f105c8e7102ac62e7ee
   "id": "783d238c-b5a2-4e8c-a6bd-af1329ba0854",
   "metadata": {},
   "outputs": [],
   "source": [
    "from sklearn.model_selection import train_test_split\n",
    "x_train, x_test, y_train, y_test = train_test_split(x_upsampled, y_upsampled, test_size=0.2, random_state=42, stratify=y_upsampled)"
   ]
  },
  {
   "cell_type": "code",
<<<<<<< HEAD
   "execution_count": 156,
=======
   "execution_count": 114,
>>>>>>> 8ffc9adf3a0ca1b244a36f105c8e7102ac62e7ee
   "id": "87f3c84a-97b5-4c96-b3bb-6dd10d076306",
   "metadata": {},
   "outputs": [
    {
     "data": {
      "text/plain": [
       "['scaler.pkl']"
      ]
     },
<<<<<<< HEAD
     "execution_count": 156,
=======
     "execution_count": 114,
>>>>>>> 8ffc9adf3a0ca1b244a36f105c8e7102ac62e7ee
     "metadata": {},
     "output_type": "execute_result"
    }
   ],
   "source": [
    "from sklearn.preprocessing import StandardScaler\n",
    "scaler = StandardScaler()\n",
    "x_train = scaler.fit_transform(x_train)\n",
    "x_test = scaler.transform(x_test)\n",
    "\n",
    "import joblib\n",
    "joblib.dump(scaler, \"scaler.pkl\")"
   ]
  },
  {
   "cell_type": "code",
<<<<<<< HEAD
   "execution_count": 157,
=======
   "execution_count": 115,
>>>>>>> 8ffc9adf3a0ca1b244a36f105c8e7102ac62e7ee
   "id": "08405591-a338-4038-af7b-094a567b4056",
   "metadata": {},
   "outputs": [
    {
     "data": {
      "text/plain": [
       "array([[ 1.38520025, -0.28681393,  1.1075739 , ..., -1.52387259,\n",
       "        -1.0074397 , -1.56093158],\n",
       "       [-1.31463157, -0.9920012 ,  1.1075739 , ..., -1.52387259,\n",
       "        -1.0074397 ,  1.48262448],\n",
       "       [ 0.87717478, -1.74420095,  1.1075739 , ...,  0.65622284,\n",
       "        -1.0074397 ,  0.49155253],\n",
       "       ...,\n",
       "       [-0.34470219,  0.74746072,  1.1075739 , ..., -1.52387259,\n",
       "         0.99261524,  0.75694167],\n",
       "       [-0.92948218, -0.89797623,  1.1075739 , ..., -1.52387259,\n",
       "         0.99261524,  1.70761681],\n",
       "       [-1.27849155,  0.70044824,  1.1075739 , ...,  0.65622284,\n",
       "        -1.0074397 , -0.36342206]])"
      ]
     },
<<<<<<< HEAD
     "execution_count": 157,
=======
     "execution_count": 115,
>>>>>>> 8ffc9adf3a0ca1b244a36f105c8e7102ac62e7ee
     "metadata": {},
     "output_type": "execute_result"
    }
   ],
   "source": [
    "x_train"
   ]
  },
  {
   "cell_type": "code",
<<<<<<< HEAD
   "execution_count": 158,
=======
   "execution_count": 116,
>>>>>>> 8ffc9adf3a0ca1b244a36f105c8e7102ac62e7ee
   "id": "c03910c1-d4db-430f-8458-9b8f03610e95",
   "metadata": {},
   "outputs": [
    {
     "data": {
      "text/plain": [
       "array([[ 0.29962279,  1.17057308,  1.1075739 , ...,  0.65622284,\n",
       "        -1.0074397 ,  0.12435789],\n",
       "       [ 1.05202366, -1.22706362, -0.90287429, ..., -1.52387259,\n",
       "        -1.0074397 ,  0.96470646],\n",
       "       [ 0.84826276,  1.02953563, -0.90287429, ..., -1.52387259,\n",
       "        -1.0074397 , -1.29332082],\n",
       "       ...,\n",
       "       [-0.97594793,  0.08928594, -0.90287429, ...,  0.65622284,\n",
       "         0.99261524,  0.56036163],\n",
       "       [ 0.6066409 , -0.42785139, -0.90287429, ...,  0.65622284,\n",
       "         0.99261524, -1.61017401],\n",
       "       [ 1.70564179, -0.05175151,  1.1075739 , ...,  0.65622284,\n",
       "         0.99261524, -0.66833158]])"
      ]
     },
<<<<<<< HEAD
     "execution_count": 158,
=======
     "execution_count": 116,
>>>>>>> 8ffc9adf3a0ca1b244a36f105c8e7102ac62e7ee
     "metadata": {},
     "output_type": "execute_result"
    }
   ],
   "source": [
    "x_test"
   ]
  },
  {
   "cell_type": "code",
<<<<<<< HEAD
   "execution_count": 159,
=======
   "execution_count": 117,
>>>>>>> 8ffc9adf3a0ca1b244a36f105c8e7102ac62e7ee
   "id": "364a2818-68d7-4baa-94f1-cae909421b3e",
   "metadata": {},
   "outputs": [],
   "source": [
    "from sklearn.metrics import accuracy_score\n",
    "def modelperformance(model_name, predictions):\n",
    "  print(\"Accuracy score on {} is {}\".format(model_name, accuracy_score(y_test,predictions)))"
   ]
  },
  {
   "cell_type": "markdown",
   "id": "e8e93974-065f-4648-a71e-bf29efcf15ba",
   "metadata": {},
   "source": [
    "Importing grid search for hyper tunning"
   ]
  },
  {
   "cell_type": "code",
<<<<<<< HEAD
   "execution_count": 160,
=======
   "execution_count": 118,
>>>>>>> 8ffc9adf3a0ca1b244a36f105c8e7102ac62e7ee
   "id": "523df35d-bbe9-4b0f-8775-b57f01b0dbf8",
   "metadata": {},
   "outputs": [],
   "source": [
    "from sklearn.model_selection import GridSearchCV"
   ]
  },
  {
   "cell_type": "markdown",
   "id": "94c45461-fe98-4a53-a1c9-4f9655328a7f",
   "metadata": {},
   "source": [
    "Logistic Regression"
   ]
  },
  {
   "cell_type": "code",
<<<<<<< HEAD
   "execution_count": 161,
=======
   "execution_count": 119,
>>>>>>> 8ffc9adf3a0ca1b244a36f105c8e7102ac62e7ee
   "id": "cd93d8df-9541-4e57-8a97-724f821d1bfb",
   "metadata": {},
   "outputs": [
    {
     "name": "stdout",
     "output_type": "stream",
     "text": [
      "Best parameters: {'C': 0.01, 'penalty': 'l1', 'solver': 'liblinear'}\n"
     ]
    },
    {
     "data": {
      "text/plain": [
       "['logistic_regression_model.pkl']"
      ]
     },
<<<<<<< HEAD
     "execution_count": 161,
=======
     "execution_count": 119,
>>>>>>> 8ffc9adf3a0ca1b244a36f105c8e7102ac62e7ee
     "metadata": {},
     "output_type": "execute_result"
    }
   ],
   "source": [
    "from sklearn.linear_model import LogisticRegression\n",
    "from sklearn.impute import SimpleImputer\n",
    "\n",
    "model = LogisticRegression(\n",
    "    max_iter=2000, \n",
    "    random_state=42,\n",
    "    class_weight='balanced'  \n",
    ")\n",
    "\n",
    "param_grid = {\n",
    "    'C': [0.01, 0.1, 1, 10, 100],\n",
    "    'penalty': ['l1', 'l2'],\n",
    "    'solver': ['liblinear']\n",
    "}\n",
    "\n",
    "grid_search = GridSearchCV(\n",
    "    model, \n",
    "    param_grid, \n",
    "    cv=5, \n",
    "    scoring='f1',  \n",
    "    n_jobs=-1\n",
    ")\n",
    "\n",
    "grid_search.fit(x_train, y_train.values.ravel())  \n",
    "\n",
    "best_lr_model = grid_search.best_estimator_\n",
    "print(f\"Best parameters: {grid_search.best_params_}\")\n",
    "\n",
    "joblib.dump(best_lr_model, \"logistic_regression_model.pkl\")"
   ]
  },
  {
   "cell_type": "markdown",
   "id": "45c62d77-4db0-4995-ae3e-ab11fddd4b18",
   "metadata": {},
   "source": [
    "Random Forest"
   ]
  },
  {
   "cell_type": "code",
<<<<<<< HEAD
   "execution_count": 162,
=======
   "execution_count": 120,
>>>>>>> 8ffc9adf3a0ca1b244a36f105c8e7102ac62e7ee
   "id": "4837a2bc-a796-4207-aa00-1142b6aea16c",
   "metadata": {},
   "outputs": [
    {
     "data": {
      "text/plain": [
       "['random_forest_model.pkl']"
      ]
     },
<<<<<<< HEAD
     "execution_count": 162,
=======
     "execution_count": 120,
>>>>>>> 8ffc9adf3a0ca1b244a36f105c8e7102ac62e7ee
     "metadata": {},
     "output_type": "execute_result"
    }
   ],
   "source": [
    "from sklearn.ensemble import RandomForestClassifier\n",
    "rfc_model = RandomForestClassifier()\n",
    "\n",
    "param_grid = {\n",
    "    \"n_estimators\": [64, 128],\n",
    "    \"max_features\": [3, 4],\n",
    "    \"bootstrap\": [True]\n",
    "}\n",
    "\n",
    "grid_rfc = GridSearchCV(rfc_model, param_grid, cv=5)\n",
    "grid_rfc.fit(x_train, y_train.values.ravel())\n",
    "\n",
    "best_rfc_model = grid_rfc.best_estimator_\n",
    "\n",
    "joblib.dump(best_rfc_model, \"random_forest_model.pkl\")\n"
   ]
  },
  {
   "cell_type": "code",
<<<<<<< HEAD
   "execution_count": 163,
=======
   "execution_count": 121,
>>>>>>> 8ffc9adf3a0ca1b244a36f105c8e7102ac62e7ee
   "id": "205bcd2e-5734-445d-807a-665eefea93a6",
   "metadata": {},
   "outputs": [
    {
     "data": {
      "text/plain": [
       "['xgboost_model.pkl']"
      ]
     },
<<<<<<< HEAD
     "execution_count": 163,
=======
     "execution_count": 121,
>>>>>>> 8ffc9adf3a0ca1b244a36f105c8e7102ac62e7ee
     "metadata": {},
     "output_type": "execute_result"
    }
   ],
   "source": [
    "import xgboost as xgb\n",
    "\n",
    "xgb_model = xgb.XGBClassifier(objective='binary:logistic', eval_metric='logloss', random_state=42)\n",
    "\n",
    "param_grid_xgb = {\n",
    "    'n_estimators': [100],\n",
    "    'learning_rate': [0.1],\n",
    "    'max_depth': [3],\n",
    "    'subsample': [1.0],\n",
    "    'colsample_bytree': [1.0]\n",
    "}\n",
    "\n",
    "grid_xgb = GridSearchCV(xgb_model, param_grid_xgb, cv=5, scoring='accuracy')\n",
    "grid_xgb.fit(x_train, y_train.values.ravel())\n",
    "\n",
    "best_xgb_model = grid_xgb.best_estimator_\n",
    "\n",
    "joblib.dump(best_xgb_model, \"xgboost_model.pkl\")\n"
   ]
  },
  {
   "cell_type": "markdown",
   "id": "08edfb38-128c-4221-82b2-54f075329199",
   "metadata": {},
   "source": [
    "model selection"
   ]
  },
  {
   "cell_type": "code",
<<<<<<< HEAD
   "execution_count": 164,
=======
   "execution_count": 122,
>>>>>>> 8ffc9adf3a0ca1b244a36f105c8e7102ac62e7ee
   "id": "378a07f9-0a0c-4ee0-96d5-ab9100f79d19",
   "metadata": {},
   "outputs": [
    {
     "name": "stdout",
     "output_type": "stream",
     "text": [
<<<<<<< HEAD
      "Logistic Regression: Accuracy = 0.6039\n",
      "Random Forest Classifier: Accuracy = 0.8371\n",
      "XGBoost Classifier: Accuracy = 0.7216\n"
=======
      "Logistic Regression: Accuracy = 0.5076\n",
      "Random Forest Classifier: Accuracy = 0.9666\n",
      "XGBoost Classifier: Accuracy = 0.5903\n"
>>>>>>> 8ffc9adf3a0ca1b244a36f105c8e7102ac62e7ee
     ]
    },
    {
     "data": {
      "text/plain": [
       "['model.pkl']"
      ]
     },
<<<<<<< HEAD
     "execution_count": 164,
=======
     "execution_count": 122,
>>>>>>> 8ffc9adf3a0ca1b244a36f105c8e7102ac62e7ee
     "metadata": {},
     "output_type": "execute_result"
    }
   ],
   "source": [
    "from sklearn.metrics import accuracy_score\n",
    "\n",
    "\n",
    "models = {\n",
    "    \"Logistic Regression\": best_lr_model,\n",
    "    \"Random Forest Classifier\": best_rfc_model,\n",
    "    \"XGBoost Classifier\": best_xgb_model\n",
    "}\n",
    "\n",
    "best_model_name = None\n",
    "best_model = None\n",
    "best_accuracy = 0\n",
    "\n",
    "for name, model in models.items():\n",
    "    y_pred = model.predict(x_test)\n",
    "    acc = accuracy_score(y_test, y_pred)\n",
    "    print(f\"{name}: Accuracy = {acc:.4f}\")\n",
    "    if acc > best_accuracy:\n",
    "        best_model_name = name\n",
    "        best_model = model\n",
    "        best_accuracy = acc\n",
    "\n",
    "joblib.dump(best_model, \"model.pkl\")\n"
   ]
  },
  {
   "cell_type": "markdown",
   "id": "37e51f2e-fea8-4911-a986-1ad09d224a03",
   "metadata": {},
   "source": [
    "model evaluation and output"
   ]
  },
  {
   "cell_type": "code",
<<<<<<< HEAD
   "execution_count": 165,
=======
   "execution_count": 123,
>>>>>>> 8ffc9adf3a0ca1b244a36f105c8e7102ac62e7ee
   "id": "800a0f20-574f-4b6b-9d5b-fb6fe2e130df",
   "metadata": {},
   "outputs": [
    {
     "name": "stdout",
     "output_type": "stream",
     "text": [
      "              precision    recall  f1-score   support\n",
      "\n",
<<<<<<< HEAD
      "           0       0.85      0.81      0.83      1139\n",
      "           1       0.82      0.86      0.84      1138\n",
=======
      "           0       0.96      0.97      0.97      1603\n",
      "           1       0.97      0.96      0.97      1602\n",
>>>>>>> 8ffc9adf3a0ca1b244a36f105c8e7102ac62e7ee
      "\n",
      "    accuracy                           0.97      3205\n",
      "   macro avg       0.97      0.97      0.97      3205\n",
      "weighted avg       0.97      0.97      0.97      3205\n",
      "\n"
     ]
    },
    {
     "data": {
<<<<<<< HEAD
      "image/png": "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",
=======
      "image/png": "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",
>>>>>>> 8ffc9adf3a0ca1b244a36f105c8e7102ac62e7ee
      "text/plain": [
       "<Figure size 640x480 with 2 Axes>"
      ]
     },
     "metadata": {},
     "output_type": "display_data"
    },
    {
     "data": {
<<<<<<< HEAD
      "image/png": "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",
=======
      "image/png": "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",
>>>>>>> 8ffc9adf3a0ca1b244a36f105c8e7102ac62e7ee
      "text/plain": [
       "<Figure size 640x480 with 1 Axes>"
      ]
     },
     "metadata": {},
     "output_type": "display_data"
    },
    {
     "data": {
<<<<<<< HEAD
      "image/png": "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",
=======
      "image/png": "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",
>>>>>>> 8ffc9adf3a0ca1b244a36f105c8e7102ac62e7ee
      "text/plain": [
       "<Figure size 640x480 with 1 Axes>"
      ]
     },
     "metadata": {},
     "output_type": "display_data"
    },
    {
     "name": "stdout",
     "output_type": "stream",
     "text": [
      "✅ Output saved to final_churn_predictions.csv\n"
     ]
    }
   ],
   "source": [
    "from sklearn.metrics import classification_report, confusion_matrix, roc_auc_score, roc_curve\n",
    "import seaborn as sns\n",
    "import matplotlib.pyplot as plt\n",
    "\n",
    "y_pred = best_model.predict(x_test).ravel()\n",
    "y_proba = best_model.predict_proba(x_test)[:, 1].ravel()\n",
    "\n",
    "print(classification_report(y_test, y_pred))\n",
    "\n",
    "cm = confusion_matrix(y_test, y_pred)\n",
    "sns.heatmap(cm, annot=True, fmt='d', cmap='Blues')\n",
    "plt.title(\"Confusion Matrix\")\n",
    "plt.xlabel(\"Predicted\")\n",
    "plt.ylabel(\"Actual\")\n",
    "plt.show()\n",
    "\n",
    "auc = roc_auc_score(y_test, y_proba)\n",
    "fpr, tpr, _ = roc_curve(y_test, y_proba)\n",
    "plt.plot(fpr, tpr, label=f'AUC = {auc:.2f}')\n",
    "plt.plot([0, 1], [0, 1], 'k--')\n",
    "plt.xlabel(\"FPR\")\n",
    "plt.ylabel(\"TPR\")\n",
    "plt.title(\"ROC Curve\")\n",
    "plt.legend()\n",
    "plt.show()\n",
    "\n",
    "if hasattr(best_model, 'feature_importances_'):\n",
    "    importance = best_model.feature_importances_\n",
    "    features = x_upsampled.columns\n",
    "    sns.barplot(x=importance, y=features)\n",
    "    plt.title(\"Feature Importance\")\n",
    "    plt.xlabel(\"Importance\")\n",
    "    plt.ylabel(\"Features\")\n",
    "    plt.tight_layout()\n",
    "    plt.show()\n",
    "\n",
    "if not isinstance(x_test, pd.DataFrame):\n",
    "    x_test = pd.DataFrame(x_test, columns=x_upsampled.columns)\n",
    "\n",
    "output_df = x_test.copy()\n",
    "output_df[\"Churn_Prediction\"] = y_pred\n",
    "output_df[\"Churn_Probability\"] = y_proba\n",
    "\n",
    "output_df.to_csv(\"final_churn_predictions.csv\", index=False)\n",
    "print(\"✅ Output saved to final_churn_predictions.csv\")\n"
   ]
  },
  {
   "cell_type": "code",
   "execution_count": null,
   "id": "0cedfe31-38f9-4a40-be30-f79f26e7e2c1",
   "metadata": {},
   "outputs": [],
   "source": []
  }
 ],
 "metadata": {
  "kernelspec": {
   "display_name": "Python 3",
   "language": "python",
   "name": "python3"
  },
  "language_info": {
   "codemirror_mode": {
    "name": "ipython",
    "version": 3
   },
   "file_extension": ".py",
   "mimetype": "text/x-python",
   "name": "python",
   "nbconvert_exporter": "python",
   "pygments_lexer": "ipython3",
   "version": "3.12.8"
  }
 },
 "nbformat": 4,
 "nbformat_minor": 5
}
